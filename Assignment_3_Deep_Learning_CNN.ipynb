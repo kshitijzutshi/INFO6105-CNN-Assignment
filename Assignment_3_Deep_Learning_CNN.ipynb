{
 "cells": [
  {
   "cell_type": "markdown",
   "metadata": {
    "id": "t3rYNW8SS0AK"
   },
   "source": [
    "# Abstract\n",
    "\n",
    "The problem chosen is from Kaggle and its a **Multi class image classification problem**. \n",
    "\n",
    "The Dataset for this problem has been taken from kaggle - [Intel Image Classification\n",
    "Image Scene Classification of Multiclass](https://www.kaggle.com/puneet6060/intel-image-classification)\n",
    "\n",
    "This Data contains around **25000** **images** of size 150x150 distributed under 6 categories.\n",
    "\n",
    "\n",
    "\n",
    "```\n",
    "\n",
    "{'buildings' -> 0,\n",
    "'forest' -> 1,\n",
    "'glacier' -> 2,\n",
    "'mountain' -> 3,\n",
    "'sea' -> 4,\n",
    "'street' -> 5 }\n",
    "\n",
    "```\n",
    "\n",
    "\n",
    "The Train, Test and Prediction data is separated in each zip files. There are around **14000** images in **Train**, **3000** in **Test** and **7000** in **Prediction**.\n",
    "\n",
    "For this problem the Convolution Neural Network has been built from scratch using Pytorch 🔦 and computations for all the model runs have been performed on the Discovery Cluster.\n",
    "\n",
    "\n",
    "In due course of the tweaking different parameters of the model like activation function, cost function, gradient estimation, network architecture and weight initializations it was observed that these changes have an impact on the accuracy and loss related to the model. The plots for the same taken from tensorboard corroborate the same.\n",
    "\n",
    "**Acknowledgement**\n",
    "\n",
    "This data was initially published on https://datahack.analyticsvidhya.com by Intel to host a Image classification Challenge."
   ]
  },
  {
   "cell_type": "markdown",
   "metadata": {
    "id": "0pOaZNYjh23p"
   },
   "source": [
    "### 1.1 Importing necessary libraries"
   ]
  },
  {
   "cell_type": "code",
   "execution_count": 34,
   "metadata": {
    "id": "u8cLmb5wSqY-"
   },
   "outputs": [],
   "source": [
    "import os\n",
    "import numpy as np\n",
    "import torch\n",
    "import seaborn as sns\n",
    "import matplotlib.pyplot as plt\n",
    "from sklearn.metrics import confusion_matrix\n",
    "# from resources.plotcm import plot_confusion_matrix\n",
    "import pandas as pd\n",
    "import glob\n",
    "from PIL import Image\n",
    "from io import open\n",
    "from tqdm import tqdm\n",
    "import torch.nn as nn\n",
    "from torchvision.transforms import transforms\n",
    "from torch.utils.data import DataLoader\n",
    "from torchsummary import summary\n",
    "from torch.utils.tensorboard import SummaryWriter\n",
    "from torch.optim import SGD\n",
    "from torch.optim import Adam\n",
    "from torch.autograd import Variable\n",
    "import torchvision\n",
    "from itertools import product\n",
    "import pathlib\n",
    "from sklearn.metrics import classification_report, confusion_matrix"
   ]
  },
  {
   "cell_type": "code",
   "execution_count": 2,
   "metadata": {
    "colab": {
     "base_uri": "https://localhost:8080/"
    },
    "id": "a8maO5JMvVix",
    "outputId": "92e810dc-5a68-4069-cf3e-f635cf5138df"
   },
   "outputs": [
    {
     "name": "stdout",
     "output_type": "stream",
     "text": [
      "1.10.0+cu102\n",
      "0.11.1+cu102\n"
     ]
    }
   ],
   "source": [
    "print(torch.__version__)\n",
    "print(torchvision.__version__)"
   ]
  },
  {
   "cell_type": "markdown",
   "metadata": {
    "id": "H_jD5JjIiAfC"
   },
   "source": [
    "### 1.2 Loading the dataset source 📁"
   ]
  },
  {
   "cell_type": "markdown",
   "metadata": {
    "id": "WDlVXaImywLF"
   },
   "source": [
    "We can get a glance at the GPU in use and Torch support with the following snippets of code:"
   ]
  },
  {
   "cell_type": "code",
   "execution_count": 3,
   "metadata": {
    "colab": {
     "base_uri": "https://localhost:8080/"
    },
    "id": "udgiMbPVy6_n",
    "outputId": "348c9451-02db-43ba-b399-1caf6c95f3ff"
   },
   "outputs": [
    {
     "name": "stdout",
     "output_type": "stream",
     "text": [
      "Fri Dec 10 23:31:05 2021       \n",
      "+-----------------------------------------------------------------------------+\n",
      "| NVIDIA-SMI 470.82.01    Driver Version: 470.82.01    CUDA Version: 11.4     |\n",
      "|-------------------------------+----------------------+----------------------+\n",
      "| GPU  Name        Persistence-M| Bus-Id        Disp.A | Volatile Uncorr. ECC |\n",
      "| Fan  Temp  Perf  Pwr:Usage/Cap|         Memory-Usage | GPU-Util  Compute M. |\n",
      "|                               |                      |               MIG M. |\n",
      "|===============================+======================+======================|\n",
      "|   0  Tesla K80           Off  | 00000000:06:00.0 Off |                    0 |\n",
      "| N/A   54C    P0    75W / 149W |      0MiB / 11441MiB |      2%      Default |\n",
      "|                               |                      |                  N/A |\n",
      "+-------------------------------+----------------------+----------------------+\n",
      "                                                                               \n",
      "+-----------------------------------------------------------------------------+\n",
      "| Processes:                                                                  |\n",
      "|  GPU   GI   CI        PID   Type   Process name                  GPU Memory |\n",
      "|        ID   ID                                                   Usage      |\n",
      "|=============================================================================|\n",
      "|  No running processes found                                                 |\n",
      "+-----------------------------------------------------------------------------+\n"
     ]
    }
   ],
   "source": [
    "!nvidia-smi"
   ]
  },
  {
   "cell_type": "code",
   "execution_count": 4,
   "metadata": {
    "colab": {
     "base_uri": "https://localhost:8080/"
    },
    "id": "a7nFMvELy-Sz",
    "outputId": "b7cea53a-5f8b-4a5c-91ed-c90e86021262"
   },
   "outputs": [
    {
     "name": "stdout",
     "output_type": "stream",
     "text": [
      "cuda\n"
     ]
    }
   ],
   "source": [
    "import torch\n",
    "torch.cuda.is_available()\n",
    "# Output would be True if Pytorch is using GPU otherwise it would be False.\n",
    "device = torch.device('cuda' if torch.cuda.is_available() else 'cpu')\n",
    "print(device)"
   ]
  },
  {
   "cell_type": "markdown",
   "metadata": {
    "id": "oHaV_MdZiHxS"
   },
   "source": [
    "### 1.3 Dataset: Pre-Processing Images 📸"
   ]
  },
  {
   "cell_type": "markdown",
   "metadata": {
    "id": "reuQBNAE07lc"
   },
   "source": [
    "Reference - [Pytorch - TorchVision Transforms](https://pytorch.org/vision/stable/transforms.html)\n",
    "\n",
    "In order to get a better performing model we will employ standard image pre-processing techniques such as - \n",
    "\n",
    " \n",
    "\n",
    "*   Resize the Image ✅\n",
    "*   Use Random Horizontal Flip ✅\n",
    "*   Use ToTensor to convert image/numpy nd array to torch float tensor ✅\n",
    "*   Use Normalize function in Pytorch transforms(Image Standardization) - Normalize each channel of Input Tensor ✅\n",
    "\n"
   ]
  },
  {
   "cell_type": "code",
   "execution_count": 5,
   "metadata": {
    "id": "fJHef86ku5nh"
   },
   "outputs": [],
   "source": [
    "# Image Pre-processing/Augmentation using Pytorch inbuilt transforms\n",
    "# Normalize -> 2x3 matrix -> col is RGB channel and row is mean, deviation\n",
    "# Normalize - Convert 0-1 to  [-1,1], mean and std for 3 channel is 0.5 -> formula = (x-mean)/std\n",
    "transformer = transforms.Compose([\n",
    "                                  transforms.Resize((150,150)),\n",
    "                                  transforms.RandomHorizontalFlip(),\n",
    "                                  transforms.ToTensor(), # 0-255 to 0-1 , numpy to tensor\n",
    "                                  transforms.Normalize([0.5,0.5,0.5],\n",
    "                                                       [0.5,0.5,0.5]) \n",
    "]) "
   ]
  },
  {
   "cell_type": "markdown",
   "metadata": {
    "id": "1-dLucuu9XD7"
   },
   "source": [
    "### 1.4 Loading the Dataset ⚒\n",
    "\n",
    "In dealing with CNN problems and datasets, pytorch dataloader helps us to load the data in batches so that the GPU is not overloaded.\n",
    "\n",
    "Reference - [torchvision ImageFolder](https://pytorch.org/vision/0.8/datasets.html#imagefolder)"
   ]
  },
  {
   "cell_type": "code",
   "execution_count": 6,
   "metadata": {
    "id": "pTFz3C_S9wgx"
   },
   "outputs": [],
   "source": [
    "# Paths for train and test\n",
    "train_path = '/home/zutshi.k/datasets/seg_train/seg_train'\n",
    "test_path = '/home/zutshi.k/datasets/seg_test/seg_test'\n",
    "\n",
    "# train_loader = DataLoader(\n",
    "#     torchvision.datasets.ImageFolder(train_path, transform=transformer),\n",
    "#     batch_size=256, shuffle = True\n",
    "# )\n",
    "train_set = torchvision.datasets.ImageFolder(train_path, transform=transformer)\n",
    "#Dataloader\n",
    "test_loader = DataLoader(\n",
    "    torchvision.datasets.ImageFolder(test_path, transform=transformer),\n",
    "    batch_size=256, shuffle = True\n",
    ")"
   ]
  },
  {
   "cell_type": "code",
   "execution_count": 7,
   "metadata": {
    "colab": {
     "base_uri": "https://localhost:8080/"
    },
    "id": "l2cwPbclxNCm",
    "outputId": "5a822966-af3f-4239-feab-3cf75a13cc21"
   },
   "outputs": [
    {
     "name": "stdout",
     "output_type": "stream",
     "text": [
      "11\n"
     ]
    },
    {
     "data": {
      "text/plain": [
       "6"
      ]
     },
     "execution_count": 7,
     "metadata": {},
     "output_type": "execute_result"
    }
   ],
   "source": [
    "initial_count = 0\n",
    "for path in pathlib.Path(\".\").iterdir():\n",
    "    if path.is_file():\n",
    "        initial_count += 1\n",
    "\n",
    "print(initial_count)\n",
    "\n",
    "len(os.listdir(train_path))"
   ]
  },
  {
   "cell_type": "code",
   "execution_count": 8,
   "metadata": {
    "colab": {
     "base_uri": "https://localhost:8080/"
    },
    "id": "OioZTXLw_nhW",
    "outputId": "3a490b54-f081-4345-e5fa-6bd569b90ba9"
   },
   "outputs": [
    {
     "name": "stdout",
     "output_type": "stream",
     "text": [
      "<generator object Path.iterdir at 0x2b2b7fefb650>\n",
      "['buildings', 'forest', 'glacier', 'mountain', 'sea', 'street']\n"
     ]
    }
   ],
   "source": [
    "#categories\n",
    "root = pathlib.Path(train_path)\n",
    "print(root.iterdir())\n",
    "classes = sorted(j.name.split('/')[-1] for j in root.iterdir())\n",
    "print(classes)"
   ]
  },
  {
   "cell_type": "markdown",
   "metadata": {
    "id": "_94Tla5tzjR0"
   },
   "source": [
    "### 1.5 Peek at the Dataset and Visualize 📊\n",
    "\n",
    "What we can see from the below EDAs - \n",
    "\n",
    "- The Train and Test Datasets have almost same counts of images per category.\n",
    "- From the Pie plots we can see that the dataset is fairly distributed among the Six classes of - 'buildings', 'forest', 'glacier', 'mountain', 'sea', 'street'"
   ]
  },
  {
   "cell_type": "code",
   "execution_count": 9,
   "metadata": {
    "colab": {
     "base_uri": "https://localhost:8080/"
    },
    "id": "p8nbw_7G9R2Z",
    "outputId": "cdef3452-fe94-40ee-df70-c4081fd6f9a5"
   },
   "outputs": [
    {
     "name": "stdout",
     "output_type": "stream",
     "text": [
      "{'buildings': 2191, 'forest': 2271, 'glacier': 2404, 'mountain': 2512, 'sea': 2274, 'street': 2382}\n",
      "{'buildings': 437, 'forest': 474, 'glacier': 553, 'mountain': 525, 'sea': 510, 'street': 501}\n"
     ]
    }
   ],
   "source": [
    "dictData_train = {}\n",
    "dictData_test = {}\n",
    "for i in classes:\n",
    "  if i not in dictData_train:\n",
    "    dictData_train[i] = len(os.listdir(train_path+'/'+i))\n",
    "  else:\n",
    "    dictData_train[i]+=1\n",
    "\n",
    "for i in classes:\n",
    "  if i not in dictData_test:\n",
    "    dictData_test[i] = len(os.listdir(test_path+'/'+i))\n",
    "  else:\n",
    "    dictData_test[i]+=1\n",
    "\n",
    "print(dictData_train)\n",
    "print(dictData_test)"
   ]
  },
  {
   "cell_type": "code",
   "execution_count": 10,
   "metadata": {
    "colab": {
     "base_uri": "https://localhost:8080/",
     "height": 299
    },
    "id": "5-1IgSdI2Wau",
    "outputId": "62d3f058-cc38-4672-a613-002fca32e7c4"
   },
   "outputs": [
    {
     "data": {
      "text/plain": [
       "<BarContainer object of 6 artists>"
      ]
     },
     "execution_count": 10,
     "metadata": {},
     "output_type": "execute_result"
    },
    {
     "data": {
      "image/png": "[encoded data removed]",
      "text/plain": [
       "<Figure size 432x288 with 1 Axes>"
      ]
     },
     "metadata": {
      "needs_background": "light"
     },
     "output_type": "display_data"
    }
   ],
   "source": [
    "keys = dictData_train.keys()\n",
    "values = dictData_train.values()\n",
    "plt.title('Train Dataset Categories Count')\n",
    "plt.ylabel('Category Count')\n",
    "plt.bar(keys, values, color='cornflowerblue')"
   ]
  },
  {
   "cell_type": "code",
   "execution_count": 11,
   "metadata": {
    "colab": {
     "base_uri": "https://localhost:8080/",
     "height": 299
    },
    "id": "Q80w2tzS3zKx",
    "outputId": "5aaece35-72c2-4ad5-b2aa-48e4da54ed37"
   },
   "outputs": [
    {
     "data": {
      "text/plain": [
       "<BarContainer object of 6 artists>"
      ]
     },
     "execution_count": 11,
     "metadata": {},
     "output_type": "execute_result"
    },
    {
     "data": {
      "image/png": "[encoded data removed]",
      "text/plain": [
       "<Figure size 432x288 with 1 Axes>"
      ]
     },
     "metadata": {
      "needs_background": "light"
     },
     "output_type": "display_data"
    }
   ],
   "source": [
    "keys = dictData_test.keys()\n",
    "values = dictData_test.values()\n",
    "plt.title('Test Dataset Categories Count')\n",
    "plt.ylabel('Category Count')\n",
    "plt.bar(keys, values, color = 'sandybrown')"
   ]
  },
  {
   "cell_type": "code",
   "execution_count": 12,
   "metadata": {
    "colab": {
     "base_uri": "https://localhost:8080/",
     "height": 269
    },
    "id": "Ra3QEhwZ5Sx5",
    "outputId": "51df98be-0cfb-4d63-a79d-7a952f8841d7"
   },
   "outputs": [
    {
     "data": {
      "image/png": "[encoded data removed]",
      "text/plain": [
       "<Figure size 432x288 with 1 Axes>"
      ]
     },
     "metadata": {},
     "output_type": "display_data"
    }
   ],
   "source": [
    "plt.pie(dictData_train.values(),\n",
    "        explode=(0, 0, 0, 0, 0, 0) , \n",
    "        labels=dictData_train.keys(),\n",
    "        autopct='%1.1f%%')\n",
    "plt.axis('equal')\n",
    "plt.title('Proportion of each observed category - Train data')\n",
    "plt.show()"
   ]
  },
  {
   "cell_type": "code",
   "execution_count": 13,
   "metadata": {
    "colab": {
     "base_uri": "https://localhost:8080/",
     "height": 269
    },
    "id": "xktuxwbt5eJJ",
    "outputId": "0984cc64-4fa1-4986-b501-ad0ad1951571"
   },
   "outputs": [
    {
     "data": {
      "image/png": "[encoded data removed]",
      "text/plain": [
       "<Figure size 432x288 with 1 Axes>"
      ]
     },
     "metadata": {},
     "output_type": "display_data"
    }
   ],
   "source": [
    "plt.pie(dictData_test.values(),\n",
    "        explode=(0, 0, 0, 0, 0, 0) , \n",
    "        labels=dictData_test.keys(),\n",
    "        autopct='%1.1f%%')\n",
    "plt.axis('equal')\n",
    "plt.title('Proportion of each observed category - Test data')\n",
    "plt.show()"
   ]
  },
  {
   "cell_type": "markdown",
   "metadata": {
    "id": "lqzxbxVeu8WO"
   },
   "source": [
    "### 2.1 Create Convolution Neural Network(CNN) using different layers & ReLU ⚙\n",
    "\n",
    "Here the Activation function used is Rectified Linear (ReLU)"
   ]
  },
  {
   "cell_type": "code",
   "execution_count": 1,
   "metadata": {
    "id": "3WGvs0MovIL_"
   },
   "outputs": [],
   "source": [
    "#CNN network\n",
    "\n",
    "class ConvNet_RELU(nn.Module):\n",
    "      def __init__(self, num_classes=6):\n",
    "        super(ConvNet_RELU,self).__init__()\n",
    "\n",
    "        # Input Shape = (256,3,150,150) -> (Batch size, no. of channels, 150, 150 -> Image dim)\n",
    "        # Stride means scan X pixels, padding is how many pixels to keep around before passing -> 3x3\n",
    "        self.conv1 = nn.Conv2d(in_channels=3, out_channels=12, kernel_size=3, stride=1, padding=1)\n",
    "        #Shape -> (256,12,150,150)\n",
    "        self.bn1 = nn.BatchNorm2d(num_features=12)\n",
    "        #Shape -> (256,12,150,150)\n",
    "        self.relu1 = nn.ReLU()\n",
    "        #Shape -> (256,12,150,150)\n",
    "        self.pool = nn.MaxPool2d(kernel_size=2)\n",
    "        # Reduce the image size by factor of 2\n",
    "        #Shape -> (256,12, 75,75)\n",
    "\n",
    "\n",
    "        # 2nd Layer\n",
    "\n",
    "\n",
    "        self.conv2 = nn.Conv2d(in_channels=12, out_channels=20, kernel_size=3, stride=1, padding=1)\n",
    "        #Shape -> (256,12,75,75)\n",
    "        self.relu2 = nn.ReLU()\n",
    "        #Shape -> (256,20,75,75)\n",
    "\n",
    "\n",
    "        # 3rd Layer\n",
    "\n",
    "\n",
    "        self.conv3 = nn.Conv2d(in_channels=20, out_channels=32, kernel_size=3, stride=1, padding=1)\n",
    "        #Shape -> (256,32,75,75)\n",
    "        self.bn2 = nn.BatchNorm2d(num_features=32)\n",
    "        #Shape -> (256,32,75,75)\n",
    "        self.relu3 = nn.ReLU()\n",
    "        #Shape -> (256,32,75,75) \n",
    "\n",
    "        self.fullyConnected = nn.Linear(in_features=32*75*75, out_features=num_classes)\n",
    "\n",
    "# Feed forward function\n",
    "  def forward(self, input):\n",
    "    output = self.conv1(input)\n",
    "    output = self.bn1(output)\n",
    "    output = self.relu1(output)\n",
    "\n",
    "    output = self.pool(output)\n",
    "\n",
    "    output = self.conv2(output)\n",
    "    output = self.relu2(output)\n",
    "\n",
    "    output = self.conv3(output)\n",
    "    output = self.bn2(output)\n",
    "    output = self.relu3(output)\n",
    "\n",
    "    # the output will be in matric form of shape (256,32,75,75)\n",
    "    # in order to feed it to fully connected layer output needs to be reshaped\n",
    "\n",
    "    output = output.view(-1,32*75*75)\n",
    "    output = self.fullyConnected(output)\n",
    "\n",
    "    return output"
   ]
  },
  {
   "cell_type": "markdown",
   "metadata": {
    "id": "YbG9S4htAUk9"
   },
   "source": [
    "### 2.2 Create Convolution Neural Network(CNN) using different layers & Exponential Linear Unit(ELU) ⚙\n",
    "\n",
    "Here the Activation function used is Exponential Linear Unit(ELU)"
   ]
  },
  {
   "cell_type": "code",
   "execution_count": 23,
   "metadata": {
    "id": "Vk34fQb9ATPm"
   },
   "outputs": [],
   "source": [
    "#CNN network\n",
    "class ConvNet_ELU(nn.Module):\n",
    "      def __init__(self, num_classes=6):\n",
    "        super(ConvNet_ELU,self).__init__()\n",
    "\n",
    "        # Input Shape = (256,3,150,150) -> (Batch size, no. of channels, 150, 150 -> Image dim)\n",
    "        # Stride means scan X pixels, padding is how many pixels to keep around before passing -> 3x3\n",
    "        self.conv1 = nn.Conv2d(in_channels=3, out_channels=12, kernel_size=3, stride=1, padding=1)\n",
    "        #Shape -> (256,12,150,150)\n",
    "        self.bn1 = nn.BatchNorm2d(num_features=12)\n",
    "        #Shape -> (256,12,150,150)\n",
    "        self.elu1 = nn.ELU()\n",
    "        #Shape -> (256,12,150,150)\n",
    "        self.pool = nn.MaxPool2d(kernel_size=2)\n",
    "        # Reduce the image size by factor of 2\n",
    "        #Shape -> (256,12, 75,75)\n",
    "\n",
    "\n",
    "        # 2nd Layer\n",
    "\n",
    "\n",
    "        self.conv2 = nn.Conv2d(in_channels=12, out_channels=20, kernel_size=3, stride=1, padding=1)\n",
    "        #Shape -> (256,12,75,75)\n",
    "        self.elu2 = nn.ELU()\n",
    "        #Shape -> (256,20,75,75)\n",
    "\n",
    "\n",
    "        # 3rd Layer\n",
    "\n",
    "\n",
    "        self.conv3 = nn.Conv2d(in_channels=20, out_channels=32, kernel_size=3, stride=1, padding=1)\n",
    "        #Shape -> (256,32,75,75)\n",
    "        self.bn2 = nn.BatchNorm2d(num_features=32)\n",
    "        #Shape -> (256,32,75,75)\n",
    "        self.elu3 = nn.ELU()\n",
    "        #Shape -> (256,32,75,75) \n",
    "\n",
    "        self.fullyConnected = nn.Linear(in_features=32*75*75, out_features=num_classes)\n",
    "\n",
    "# Feed forward function\n",
    "  def forward(self, input):\n",
    "    output = self.conv1(input)\n",
    "    output = self.bn1(output)\n",
    "    output = self.elu1(output)\n",
    "\n",
    "    output = self.pool(output)\n",
    "\n",
    "    output = self.conv2(output)\n",
    "    output = self.elu2(output)\n",
    "\n",
    "    output = self.conv3(output)\n",
    "    output = self.bn2(output)\n",
    "    output = self.elu3(output)\n",
    "\n",
    "    # the output will be in matric form of shape (256,32,75,75)\n",
    "    # in order to feed it to fully connected layer output needs to be reshaped\n",
    "\n",
    "    output = output.view(-1,32*75*75)\n",
    "    output = self.fullyConnected(output)\n",
    "\n",
    "    return output\n"
   ]
  },
  {
   "cell_type": "code",
   "execution_count": 24,
   "metadata": {
    "id": "fPo7MMPAvbqX"
   },
   "outputs": [],
   "source": [
    "# model using RELU activation \n",
    "model_RELU = ConvNet_RELU(num_classes=6).to(device)\n",
    "#model using ELU activation\n",
    "model_ELU = ConvNet_ELU(num_classes=6).to(device)"
   ]
  },
  {
   "cell_type": "code",
   "execution_count": 25,
   "metadata": {
    "colab": {
     "base_uri": "https://localhost:8080/"
    },
    "id": "z_qUgjwrTHwB",
    "outputId": "8f27a774-f5e8-4448-aaf9-3d3a3a29e9e4"
   },
   "outputs": [
    {
     "name": "stdout",
     "output_type": "stream",
     "text": [
      "----------------------------------------------------------------\n",
      "        Layer (type)               Output Shape         Param #\n",
      "================================================================\n",
      "            Conv2d-1         [-1, 12, 150, 150]             336\n",
      "       BatchNorm2d-2         [-1, 12, 150, 150]              24\n",
      "              ReLU-3         [-1, 12, 150, 150]               0\n",
      "         MaxPool2d-4           [-1, 12, 75, 75]               0\n",
      "            Conv2d-5           [-1, 20, 75, 75]           2,180\n",
      "              ReLU-6           [-1, 20, 75, 75]               0\n",
      "            Conv2d-7           [-1, 32, 75, 75]           5,792\n",
      "       BatchNorm2d-8           [-1, 32, 75, 75]              64\n",
      "              ReLU-9           [-1, 32, 75, 75]               0\n",
      "           Linear-10                    [-1, 6]       1,080,006\n",
      "================================================================\n",
      "Total params: 1,088,402\n",
      "Trainable params: 1,088,402\n",
      "Non-trainable params: 0\n",
      "----------------------------------------------------------------\n",
      "Input size (MB): 0.26\n",
      "Forward/backward pass size (MB): 12.53\n",
      "Params size (MB): 4.15\n",
      "Estimated Total Size (MB): 16.94\n",
      "----------------------------------------------------------------\n"
     ]
    }
   ],
   "source": [
    "# Get model summary model_RELU\n",
    "# Reference - https://stackoverflow.com/questions/42480111/model-summary-in-pytorch\n",
    "summary(model_RELU, (3,150,150))"
   ]
  },
  {
   "cell_type": "code",
   "execution_count": 26,
   "metadata": {
    "colab": {
     "base_uri": "https://localhost:8080/"
    },
    "id": "HxllixXRBfdi",
    "outputId": "42b90d3a-7b68-4eaa-a430-e395eac0837b"
   },
   "outputs": [
    {
     "name": "stdout",
     "output_type": "stream",
     "text": [
      "----------------------------------------------------------------\n",
      "        Layer (type)               Output Shape         Param #\n",
      "================================================================\n",
      "            Conv2d-1         [-1, 12, 150, 150]             336\n",
      "       BatchNorm2d-2         [-1, 12, 150, 150]              24\n",
      "               ELU-3         [-1, 12, 150, 150]               0\n",
      "         MaxPool2d-4           [-1, 12, 75, 75]               0\n",
      "            Conv2d-5           [-1, 20, 75, 75]           2,180\n",
      "               ELU-6           [-1, 20, 75, 75]               0\n",
      "            Conv2d-7           [-1, 32, 75, 75]           5,792\n",
      "       BatchNorm2d-8           [-1, 32, 75, 75]              64\n",
      "               ELU-9           [-1, 32, 75, 75]               0\n",
      "           Linear-10                    [-1, 6]       1,080,006\n",
      "================================================================\n",
      "Total params: 1,088,402\n",
      "Trainable params: 1,088,402\n",
      "Non-trainable params: 0\n",
      "----------------------------------------------------------------\n",
      "Input size (MB): 0.26\n",
      "Forward/backward pass size (MB): 12.53\n",
      "Params size (MB): 4.15\n",
      "Estimated Total Size (MB): 16.94\n",
      "----------------------------------------------------------------\n"
     ]
    }
   ],
   "source": [
    "# Get model summary model_LRELU\n",
    "# Reference - https://stackoverflow.com/questions/42480111/model-summary-in-pytorch\n",
    "summary(model_ELU, (3,150,150))"
   ]
  },
  {
   "cell_type": "code",
   "execution_count": 14,
   "metadata": {
    "id": "bbjTk_iW-G_s"
   },
   "outputs": [],
   "source": [
    "# loss functions\n",
    "\n",
    "'''\n",
    "Things to try:\n",
    "•Changing the batch size\n",
    "•Changing the weight decay parameter\n",
    "•Reduce the size of the training set (+ weight decay)\n",
    "•Changing the learning rate\n",
    "\n",
    "'''\n",
    "# Types of loss fns for multi class image classification\n",
    "# Reference - https://neptune.ai/blog/pytorch-loss-functions\n",
    "CrossEntropyLoss = nn.CrossEntropyLoss()\n",
    "KLDivLoss = nn.KLDivLoss()\n",
    "NLLLoss = nn.NLLLoss()"
   ]
  },
  {
   "cell_type": "code",
   "execution_count": 15,
   "metadata": {
    "id": "-7QWDH7P-WHX"
   },
   "outputs": [],
   "source": [
    "num_epochs = 10"
   ]
  },
  {
   "cell_type": "code",
   "execution_count": 16,
   "metadata": {
    "id": "Z9nJXIz0-ZJT"
   },
   "outputs": [],
   "source": [
    "#calculating the size of training and testing images\n",
    "train_count=len(glob.glob(train_path+'/**/*.jpg'))\n",
    "test_count=len(glob.glob(test_path+'/**/*.jpg'))"
   ]
  },
  {
   "cell_type": "code",
   "execution_count": 17,
   "metadata": {
    "colab": {
     "base_uri": "https://localhost:8080/"
    },
    "id": "eectNE2m-fX8",
    "outputId": "910b91a3-e506-43ce-848d-970ef5bda9f4"
   },
   "outputs": [
    {
     "name": "stdout",
     "output_type": "stream",
     "text": [
      "14034 3000\n"
     ]
    }
   ],
   "source": [
    "print(train_count,test_count)"
   ]
  },
  {
   "cell_type": "code",
   "execution_count": 18,
   "metadata": {
    "id": "qfMefk58nLut"
   },
   "outputs": [],
   "source": [
    "from sklearn.metrics import confusion_matrix\n",
    "import seaborn as sn\n",
    "import pandas as pd\n",
    "\n",
    "def createConfusionMatrix(loader):\n",
    "    y_pred = [] # save predction\n",
    "    y_true = [] # save ground truth\n",
    "\n",
    "    # iterate over data\n",
    "    for inputs, labels in loader:\n",
    "        output = model(Variable(inputs.cuda()))  # Feed Network\n",
    "\n",
    "        output = (torch.max(torch.exp(output), 1)[1]).data.cpu().numpy()\n",
    "        y_pred.extend(output)  # save prediction\n",
    "\n",
    "        labels = labels.data.cpu().numpy()\n",
    "        y_true.extend(labels)  # save ground truth\n",
    "\n",
    "    # constant for classes\n",
    "    classes = ('buildings', 'forest', 'glacier', 'mountain', 'sea', 'street')\n",
    "\n",
    "    # Build confusion matrix\n",
    "    cf_matrix = confusion_matrix(y_true, y_pred)\n",
    "    df_cm = pd.DataFrame(cf_matrix/np.sum(cf_matrix) * 10, index=[i for i in classes],\n",
    "                         columns=[i for i in classes])\n",
    "    plt.figure(figsize=(12, 7))    \n",
    "    return sn.heatmap(df_cm, annot=True).get_figure()"
   ]
  },
  {
   "cell_type": "markdown",
   "metadata": {
    "id": "GQzBCMhf8L9D"
   },
   "source": [
    "### 3.1  HyperParameters visualization - Tensorboard\n",
    "\n",
    "To Answer - ***How do different Activation Function, Gradient estimation, loss function, Number of Epochs affect Model  Accuracy and Loss***\n",
    "\n",
    "\n",
    "The model will be trained on different runs and at end of it we can visualize the plots of all **run combinations** in **tensorboard** scalars tab.\n",
    "\n",
    "**After getting the best parameters we use the model on Test dataset.**"
   ]
  },
  {
   "cell_type": "markdown",
   "metadata": {
    "id": "hGrPsgRaitMH"
   },
   "source": [
    "### 3.2 Affect of Different Activation Functions 1️⃣\n",
    "\n",
    "Here we will compare 2 Activation Functions in ConvNet namely ELU and RELU and Visualize the Accuracy and loss in Tensorboard\n",
    "\n",
    "Change the activation function. How does it affect accuracy? How does it affect how quickly the network plateaus?\n",
    "\n",
    "Various activation functions:  \n",
    "\n",
    "- Rectified linear unit (ReLU) ✅\n",
    "- TanH\n",
    "- Leaky rectified linear unit (Leaky ReLU)\n",
    "- Parameteric rectified linear unit (PReLU) Randomized leaky rectified linear unit (RReLU)\n",
    "- Exponential linear unit (ELU) ✅\n",
    "- Scaled exponential linear unit (SELU)\n",
    "- S-shaped rectified linear activation unit (SReLU)\n",
    "- Adaptive piecewise linear (APL)"
   ]
  },
  {
   "cell_type": "code",
   "execution_count": 14,
   "metadata": {
    "id": "3nrf7etzqoSL"
   },
   "outputs": [],
   "source": [
    "#CNN network\n",
    "class ConvNet(nn.Module):\n",
    "      def __init__(self, num_classes=6):\n",
    "            \n",
    "            super(ConvNet,self).__init__()\n",
    "\n",
    "            # Input Shape = (256,3,150,150) -> (Batch size, no. of channels, 150, 150 -> Image dim)\n",
    "            # Stride means scan X pixels, padding is how many pixels to keep around before passing -> 3x3\n",
    "            self.conv1 = nn.Conv2d(in_channels=3, out_channels=12, kernel_size=3, stride=1, padding=1)\n",
    "            #Shape -> (256,12,150,150)\n",
    "            self.bn1 = nn.BatchNorm2d(num_features=12)\n",
    "            #Shape -> (256,12,150,150)\n",
    "            self.relu1 = nn.ReLU()\n",
    "            #Shape -> (256,12,150,150)\n",
    "            self.pool = nn.MaxPool2d(kernel_size=2)\n",
    "            # Reduce the image size by factor of 2\n",
    "            #Shape -> (256,12, 75,75)\n",
    "\n",
    "\n",
    "            # 2nd Layer\n",
    "\n",
    "\n",
    "            self.conv2 = nn.Conv2d(in_channels=12, out_channels=20, kernel_size=3, stride=1, padding=1)\n",
    "            #Shape -> (256,12,75,75)\n",
    "            self.relu2 = nn.ReLU()\n",
    "            #Shape -> (256,20,75,75)\n",
    "\n",
    "\n",
    "            # 3rd Layer\n",
    "\n",
    "\n",
    "            self.conv3 = nn.Conv2d(in_channels=20, out_channels=32, kernel_size=3, stride=1, padding=1)\n",
    "            #Shape -> (256,32,75,75)\n",
    "            self.bn2 = nn.BatchNorm2d(num_features=32)\n",
    "            #Shape -> (256,32,75,75)\n",
    "            self.relu3 = nn.ReLU()\n",
    "            #Shape -> (256,32,75,75) \n",
    "\n",
    "            self.fullyConnected = nn.Linear(in_features=32*75*75, out_features=num_classes)\n",
    "\n",
    "      # Feed forward function\n",
    "      def forward(self, input):\n",
    "            \n",
    "            output = self.conv1(input)\n",
    "            output = self.bn1(output)\n",
    "            output = self.relu1(output)\n",
    "\n",
    "            output = self.pool(output)\n",
    "\n",
    "            output = self.conv2(output)\n",
    "            output = self.relu2(output)\n",
    "\n",
    "            output = self.conv3(output)\n",
    "            output = self.bn2(output)\n",
    "            output = self.relu3(output)\n",
    "\n",
    "            # the output will be in matric form of shape (256,32,75,75)\n",
    "            # in order to feed it to fully connected layer output needs to be reshaped\n",
    "\n",
    "            output = output.view(-1,32*75*75)\n",
    "            output = self.fullyConnected(output)\n",
    "\n",
    "            return output\n"
   ]
  },
  {
   "cell_type": "code",
   "execution_count": 15,
   "metadata": {
    "id": "B1dOYrUIqpjC"
   },
   "outputs": [],
   "source": [
    "model = ConvNet(num_classes=6).to(device)"
   ]
  },
  {
   "cell_type": "code",
   "execution_count": 35,
   "metadata": {
    "id": "A6LY6d8Es2cc"
   },
   "outputs": [],
   "source": [
    "#CNN network\n",
    "class ConvNetELU(nn.Module):\n",
    "      def __init__(self, num_classes=6):\n",
    "        super(ConvNetELU,self).__init__()\n",
    "\n",
    "        # Input Shape = (256,3,150,150) -> (Batch size, no. of channels, 150, 150 -> Image dim)\n",
    "        # Stride means scan X pixels, padding is how many pixels to keep around before passing -> 3x3\n",
    "        self.conv1 = nn.Conv2d(in_channels=3, out_channels=12, kernel_size=3, stride=1, padding=1)\n",
    "        #Shape -> (256,12,150,150)\n",
    "        self.bn1 = nn.BatchNorm2d(num_features=12)\n",
    "        #Shape -> (256,12,150,150)\n",
    "        self.elu1 = nn.ELU()\n",
    "        #Shape -> (256,12,150,150)\n",
    "        self.pool = nn.MaxPool2d(kernel_size=2)\n",
    "        # Reduce the image size by factor of 2\n",
    "        #Shape -> (256,12, 75,75)\n",
    "\n",
    "\n",
    "        # 2nd Layer\n",
    "\n",
    "\n",
    "        self.conv2 = nn.Conv2d(in_channels=12, out_channels=20, kernel_size=3, stride=1, padding=1)\n",
    "        #Shape -> (256,12,75,75)\n",
    "        self.elu2 = nn.ELU()\n",
    "        #Shape -> (256,20,75,75)\n",
    "\n",
    "\n",
    "        # 3rd Layer\n",
    "\n",
    "\n",
    "        self.conv3 = nn.Conv2d(in_channels=20, out_channels=32, kernel_size=3, stride=1, padding=1)\n",
    "        #Shape -> (256,32,75,75)\n",
    "        self.bn2 = nn.BatchNorm2d(num_features=32)\n",
    "        #Shape -> (256,32,75,75)\n",
    "        self.elu3 = nn.ELU()\n",
    "        #Shape -> (256,32,75,75) \n",
    "\n",
    "        self.fullyConnected = nn.Linear(in_features=32*75*75, out_features=num_classes)\n",
    "\n",
    "# Feed forward function\n",
    "  def forward(self, input):\n",
    "    output = self.conv1(input)\n",
    "    output = self.bn1(output)\n",
    "    output = self.elu1(output)\n",
    "\n",
    "    output = self.pool(output)\n",
    "\n",
    "    output = self.conv2(output)\n",
    "    output = self.elu2(output)\n",
    "\n",
    "    output = self.conv3(output)\n",
    "    output = self.bn2(output)\n",
    "    output = self.elu3(output)\n",
    "\n",
    "    # the output will be in matric form of shape (256,32,75,75)\n",
    "    # in order to feed it to fully connected layer output needs to be reshaped\n",
    "\n",
    "    output = output.view(-1,32*75*75)\n",
    "    output = self.fullyConnected(output)\n",
    "\n",
    "    return output\n"
   ]
  },
  {
   "cell_type": "code",
   "execution_count": 36,
   "metadata": {
    "id": "yWEDjibds3ui"
   },
   "outputs": [],
   "source": [
    "#model using ELU activation\n",
    "model_ELU = ConvNet(num_classes=6).to(device)"
   ]
  },
  {
   "cell_type": "markdown",
   "metadata": {
    "id": "HjGWF9BoxwSe"
   },
   "source": [
    "First, Lets run the model having RELU activation and saving the Accuracy/Loss to Tensorboard"
   ]
  },
  {
   "cell_type": "code",
   "execution_count": 37,
   "metadata": {
    "id": "dCu1uQHq9ajR"
   },
   "outputs": [],
   "source": [
    "parameters = dict(\n",
    "    modelTypes = [model, model_ELU]\n",
    ")\n",
    "param_values = [v for v in parameters.values()]"
   ]
  },
  {
   "cell_type": "code",
   "execution_count": 38,
   "metadata": {
    "colab": {
     "base_uri": "https://localhost:8080/"
    },
    "id": "WMsODq5S--30",
    "outputId": "ed373117-bdcb-45e3-e87c-42de6fd48ce3"
   },
   "outputs": [
    {
     "data": {
      "text/plain": [
       "[[ConvNet(\n",
       "    (conv1): Conv2d(3, 12, kernel_size=(3, 3), stride=(1, 1), padding=(1, 1))\n",
       "    (bn1): BatchNorm2d(12, eps=1e-05, momentum=0.1, affine=True, track_running_stats=True)\n",
       "    (relu1): ReLU()\n",
       "    (pool): MaxPool2d(kernel_size=2, stride=2, padding=0, dilation=1, ceil_mode=False)\n",
       "    (conv2): Conv2d(12, 20, kernel_size=(3, 3), stride=(1, 1), padding=(1, 1))\n",
       "    (relu2): ReLU()\n",
       "    (conv3): Conv2d(20, 32, kernel_size=(3, 3), stride=(1, 1), padding=(1, 1))\n",
       "    (bn2): BatchNorm2d(32, eps=1e-05, momentum=0.1, affine=True, track_running_stats=True)\n",
       "    (relu3): ReLU()\n",
       "    (fullyConnected): Linear(in_features=180000, out_features=6, bias=True)\n",
       "  ),\n",
       "  ConvNet(\n",
       "    (conv1): Conv2d(3, 12, kernel_size=(3, 3), stride=(1, 1), padding=(1, 1))\n",
       "    (bn1): BatchNorm2d(12, eps=1e-05, momentum=0.1, affine=True, track_running_stats=True)\n",
       "    (relu1): ReLU()\n",
       "    (pool): MaxPool2d(kernel_size=2, stride=2, padding=0, dilation=1, ceil_mode=False)\n",
       "    (conv2): Conv2d(12, 20, kernel_size=(3, 3), stride=(1, 1), padding=(1, 1))\n",
       "    (relu2): ReLU()\n",
       "    (conv3): Conv2d(20, 32, kernel_size=(3, 3), stride=(1, 1), padding=(1, 1))\n",
       "    (bn2): BatchNorm2d(32, eps=1e-05, momentum=0.1, affine=True, track_running_stats=True)\n",
       "    (relu3): ReLU()\n",
       "    (fullyConnected): Linear(in_features=180000, out_features=6, bias=True)\n",
       "  )]]"
      ]
     },
     "execution_count": 38,
     "metadata": {},
     "output_type": "execute_result"
    }
   ],
   "source": [
    "param_values"
   ]
  },
  {
   "cell_type": "code",
   "execution_count": 39,
   "metadata": {
    "colab": {
     "base_uri": "https://localhost:8080/"
    },
    "id": "sZHvrR7dKcbw",
    "outputId": "2c08a9d3-a7c7-46bc-abe4-b2cef62b6e0a"
   },
   "outputs": [
    {
     "data": {
      "text/plain": [
       "ConvNet(\n",
       "  (conv1): Conv2d(3, 12, kernel_size=(3, 3), stride=(1, 1), padding=(1, 1))\n",
       "  (bn1): BatchNorm2d(12, eps=1e-05, momentum=0.1, affine=True, track_running_stats=True)\n",
       "  (relu1): ReLU()\n",
       "  (pool): MaxPool2d(kernel_size=2, stride=2, padding=0, dilation=1, ceil_mode=False)\n",
       "  (conv2): Conv2d(12, 20, kernel_size=(3, 3), stride=(1, 1), padding=(1, 1))\n",
       "  (relu2): ReLU()\n",
       "  (conv3): Conv2d(20, 32, kernel_size=(3, 3), stride=(1, 1), padding=(1, 1))\n",
       "  (bn2): BatchNorm2d(32, eps=1e-05, momentum=0.1, affine=True, track_running_stats=True)\n",
       "  (relu3): ReLU()\n",
       "  (fullyConnected): Linear(in_features=180000, out_features=6, bias=True)\n",
       ")"
      ]
     },
     "execution_count": 39,
     "metadata": {},
     "output_type": "execute_result"
    }
   ],
   "source": [
    "model"
   ]
  },
  {
   "cell_type": "code",
   "execution_count": 40,
   "metadata": {
    "colab": {
     "base_uri": "https://localhost:8080/",
     "height": 448
    },
    "id": "7JPb7JDei48Z",
    "outputId": "4deea8ba-c78b-44d0-9fdd-7749fd13615e"
   },
   "outputs": [
    {
     "name": "stdout",
     "output_type": "stream",
     "text": [
      "epoch: 0 Accuracy 0.5617072823143794 loss: tensor(7.4354)\n",
      "epoch: 1 Accuracy 0.7126977340743907 loss: tensor(1.5485)\n",
      "epoch: 2 Accuracy 0.771626051018954 loss: tensor(1.1773)\n",
      "epoch: 3 Accuracy 0.8156619638021947 loss: tensor(0.7832)\n",
      "epoch: 4 Accuracy 0.8457317942140515 loss: tensor(0.6330)\n",
      "epoch: 5 Accuracy 0.8730226592560923 loss: tensor(0.5813)\n",
      "epoch: 6 Accuracy 0.9052301553370387 loss: tensor(0.3643)\n",
      "epoch: 7 Accuracy 0.9397178281316803 loss: tensor(0.2355)\n",
      "epoch: 8 Accuracy 0.9481972352857346 loss: tensor(0.1720)\n",
      "epoch: 9 Accuracy 0.9590993301980903 loss: tensor(0.1327)\n",
      "___________________________________________________________________\n",
      "epoch: 0 Accuracy 0.5302835969787658 loss: tensor(12.9690)\n",
      "epoch: 1 Accuracy 0.7359270343451617 loss: tensor(1.2118)\n",
      "epoch: 2 Accuracy 0.8016958814308109 loss: tensor(0.7880)\n",
      "epoch: 3 Accuracy 0.8563488670371954 loss: tensor(0.5124)\n",
      "epoch: 4 Accuracy 0.8860624198375374 loss: tensor(0.4238)\n",
      "epoch: 5 Accuracy 0.9036625338463731 loss: tensor(0.3463)\n",
      "epoch: 6 Accuracy 0.9110731081658828 loss: tensor(0.3315)\n",
      "epoch: 7 Accuracy 0.9467008693173721 loss: tensor(0.1807)\n",
      "epoch: 8 Accuracy 0.9578167307966368 loss: tensor(0.1452)\n",
      "epoch: 9 Accuracy 0.9556078096052444 loss: tensor(0.1482)\n",
      "___________________________________________________________________\n"
     ]
    }
   ],
   "source": [
    "# Training Loop\n",
    "modelRuns = [model, model_ELU]\n",
    "for index, model in enumerate(modelRuns):\n",
    "  \n",
    "  train_loader = torch.utils.data.DataLoader(train_set,batch_size = 256, shuffle = True)\n",
    "  # Adam_RELU = Adam(model_RELU.parameters(), lr=0.001, weight_decay=0.0001)\n",
    "  optimizer = Adam(model.parameters(), lr=0.001, weight_decay=0.0001)\n",
    "  criterion = CrossEntropyLoss\n",
    "  modelTypes = [\"model_RELU\", \"model_ELU\"]\n",
    "  comment = f' model={model} Adam_0_001 Cross_EntropyLoss'\n",
    "  tb = SummaryWriter(log_dir = 'runs/Exp_'+modelTypes[index],comment=comment)\n",
    "  for epoch in range(10):\n",
    "      total_loss = 0\n",
    "      total_correct = 0\n",
    "      train_accuracy=0.0\n",
    "      train_loss=0.0\n",
    "      model.train()\n",
    "      # loop = tqdm(enumerate(train_loader), total = len(train_loader), leave = False)\n",
    "      for images, labels in train_loader:\n",
    "          # images, labels = images.to(device), labels.to(device)\n",
    "          # preds = model(images)\n",
    "          if torch.cuda.is_available():\n",
    "              images=Variable(images.cuda())\n",
    "              labels=Variable(labels.cuda())\n",
    "          # at start of new batch the gradient is made 0    \n",
    "          optimizer.zero_grad()\n",
    "          # This gives us the prediction\n",
    "          outputs=model(images)\n",
    "          # cal loss using pred and actual value\n",
    "          loss=criterion(outputs,labels)\n",
    "          #backpropogation\n",
    "          loss.backward()\n",
    "          # Update weights\n",
    "          optimizer.step()\n",
    "          \n",
    "          # Multiply loss with image size\n",
    "          train_loss+= loss.cpu().data*images.size(0)\n",
    "          # The outputs are energies for the 6 classes. The higher the energy for a class, \n",
    "          # the more the network thinks that the image is of the particular class.\n",
    "          # So, let’s get the index of the highest energy:\n",
    "          _,prediction=torch.max(outputs.data,1)\n",
    "          \n",
    "          train_accuracy+=int(torch.sum(prediction==labels.data))\n",
    "\n",
    "\n",
    "          # loss = criterion(preds, labels)\n",
    "          # total_loss+= loss.item()\n",
    "          # total_correct+= get_num_correct(preds, labels)\n",
    "\n",
    "          # optimizer.zero_grad()\n",
    "          # loss.backward()\n",
    "          # optimizer.step()\n",
    "\n",
    "      # tb.add_scalar(\"Loss\", total_loss, epoch)\n",
    "      # tb.add_scalar(\"Correct\", total_correct, epoch)\n",
    "      # tb.add_scalar(\"Accuracy\", total_correct/train_count, epoch)\n",
    "      total_loss_in_epoch = train_loss/train_count\n",
    "      tb.add_scalar(\"Loss\", total_loss_in_epoch.cpu().data.numpy(), epoch)\n",
    "      #  tb.add_scalar(\"Correct\", total_correct, epoch)\n",
    "      tb.add_scalar(\"Accuracy\", train_accuracy/train_count, epoch)\n",
    "      # model_index+=1\n",
    "\n",
    "      # print(\"batch_size:\",batch_size, \"lr:\",lr,\"shuffle:\",shuffle)\n",
    "      # print(\"model:\",model)\n",
    "      print(\"epoch:\", epoch, \"Accuracy\", train_accuracy/train_count,\"loss:\",train_loss/train_count)\n",
    "  print(\"___________________________________________________________________\")\n",
    "\n",
    "  # tb.add_hparams(\n",
    "  #         {\"lr\": lr, \"bsize\": batch_size, \"shuffle\":shuffle},\n",
    "  #         {\n",
    "  #             \"accuracy\": total_correct/train_count,\n",
    "  #             \"loss\": total_loss,\n",
    "  #         },\n",
    "  #     )\n",
    "\n",
    "tb.close()"
   ]
  },
  {
   "cell_type": "markdown",
   "metadata": {},
   "source": [
    "#### Accuracy and Loss Plots as from Tensorboard\n",
    "\n",
    "NOTE : **For running the tensorboard in discovery cluster, we need to launch separate instance of tensorboard from Interactive Apps**\n",
    "\n",
    "#### Inference 🔎\n",
    "\n",
    "It is observed that the changes in activation function - RELU and ELU didnt affect the output accuracy and loss by much, given the no. of epochs is 10.\n",
    "If this model is tested on a test set or validation set, we can know more about its performance."
   ]
  },
  {
   "cell_type": "markdown",
   "metadata": {},
   "source": [
    "![activation_accuracy](https://user-images.githubusercontent.com/13203059/145697917-96b60774-7f47-4818-8440-72ad0384fb25.jpg)\n",
    "![activation_loss](https://user-images.githubusercontent.com/13203059/145697931-3138166d-80a2-4de0-80e6-47c77ad30d69.jpg)\n"
   ]
  },
  {
   "cell_type": "markdown",
   "metadata": {
    "id": "1ZWx3LG-oA2D"
   },
   "source": [
    "### 3.3 Affect of Different Cost Functions 2️⃣\n",
    "\n",
    "Here I will try with 2 cost functions and observe the affects of these on accuracy, loss in Tensorboard - \n",
    "\n",
    "- Cross-Entropy ✅\n",
    "- Negative Log likelihood(NLL) loss ✅"
   ]
  },
  {
   "cell_type": "code",
   "execution_count": 8,
   "metadata": {},
   "outputs": [],
   "source": [
    "#CNN network for NLL loss\n",
    "class ConvNet(nn.Module):\n",
    "      def __init__(self, num_classes=6):\n",
    "            \n",
    "            super(ConvNet,self).__init__()\n",
    "\n",
    "            # Input Shape = (256,3,150,150) -> (Batch size, no. of channels, 150, 150 -> Image dim)\n",
    "            # Stride means scan X pixels, padding is how many pixels to keep around before passing -> 3x3\n",
    "            self.conv1 = nn.Conv2d(in_channels=3, out_channels=12, kernel_size=3, stride=1, padding=1)\n",
    "            #Shape -> (256,12,150,150)\n",
    "            self.bn1 = nn.BatchNorm2d(num_features=12)\n",
    "            #Shape -> (256,12,150,150)\n",
    "            self.relu1 = nn.ReLU()\n",
    "            #Shape -> (256,12,150,150)\n",
    "            self.pool = nn.MaxPool2d(kernel_size=2)\n",
    "            # Reduce the image size by factor of 2\n",
    "            #Shape -> (256,12, 75,75)\n",
    "\n",
    "\n",
    "            # 2nd Layer\n",
    "\n",
    "\n",
    "            self.conv2 = nn.Conv2d(in_channels=12, out_channels=20, kernel_size=3, stride=1, padding=1)\n",
    "            #Shape -> (256,12,75,75)\n",
    "            self.relu2 = nn.ReLU()\n",
    "            #Shape -> (256,20,75,75)\n",
    "\n",
    "\n",
    "            # 3rd Layer\n",
    "\n",
    "\n",
    "            self.conv3 = nn.Conv2d(in_channels=20, out_channels=32, kernel_size=3, stride=1, padding=1)\n",
    "            #Shape -> (256,32,75,75)\n",
    "            self.bn2 = nn.BatchNorm2d(num_features=32)\n",
    "            #Shape -> (256,32,75,75)\n",
    "            self.relu3 = nn.ReLU()\n",
    "            #Shape -> (256,32,75,75) \n",
    "\n",
    "            self.fullyConnected = nn.Linear(in_features=32*75*75, out_features=num_classes)\n",
    "            self.logSoftmax = nn.LogSoftmax(dim=1)\n",
    "\n",
    "      # Feed forward function\n",
    "      def forward(self, input):\n",
    "            \n",
    "            output = self.conv1(input)\n",
    "            output = self.bn1(output)\n",
    "            output = self.relu1(output)\n",
    "\n",
    "            output = self.pool(output)\n",
    "\n",
    "            output = self.conv2(output)\n",
    "            output = self.relu2(output)\n",
    "\n",
    "            output = self.conv3(output)\n",
    "            output = self.bn2(output)\n",
    "            output = self.relu3(output)\n",
    "\n",
    "            # the output will be in matric form of shape (256,32,75,75)\n",
    "            # in order to feed it to fully connected layer output needs to be reshaped\n",
    "\n",
    "            output = output.view(-1,32*75*75)\n",
    "            output = self.fullyConnected(output)\n",
    "            output = self.logSoftmax(output)\n",
    "\n",
    "            return output"
   ]
  },
  {
   "cell_type": "code",
   "execution_count": 9,
   "metadata": {},
   "outputs": [],
   "source": [
    "model = ConvNet(num_classes=6).to(device)"
   ]
  },
  {
   "cell_type": "code",
   "execution_count": 10,
   "metadata": {},
   "outputs": [
    {
     "name": "stdout",
     "output_type": "stream",
     "text": [
      "----------------------------------------------------------------\n",
      "        Layer (type)               Output Shape         Param #\n",
      "================================================================\n",
      "            Conv2d-1         [-1, 12, 150, 150]             336\n",
      "       BatchNorm2d-2         [-1, 12, 150, 150]              24\n",
      "              ReLU-3         [-1, 12, 150, 150]               0\n",
      "         MaxPool2d-4           [-1, 12, 75, 75]               0\n",
      "            Conv2d-5           [-1, 20, 75, 75]           2,180\n",
      "              ReLU-6           [-1, 20, 75, 75]               0\n",
      "            Conv2d-7           [-1, 32, 75, 75]           5,792\n",
      "       BatchNorm2d-8           [-1, 32, 75, 75]              64\n",
      "              ReLU-9           [-1, 32, 75, 75]               0\n",
      "           Linear-10                    [-1, 6]       1,080,006\n",
      "       LogSoftmax-11                    [-1, 6]               0\n",
      "================================================================\n",
      "Total params: 1,088,402\n",
      "Trainable params: 1,088,402\n",
      "Non-trainable params: 0\n",
      "----------------------------------------------------------------\n",
      "Input size (MB): 0.26\n",
      "Forward/backward pass size (MB): 12.53\n",
      "Params size (MB): 4.15\n",
      "Estimated Total Size (MB): 16.94\n",
      "----------------------------------------------------------------\n"
     ]
    }
   ],
   "source": [
    "summary(model, (3,150,150))"
   ]
  },
  {
   "cell_type": "code",
   "execution_count": 52,
   "metadata": {
    "id": "fauPJeegogPv"
   },
   "outputs": [],
   "source": [
    "# Training Loop\n",
    "\n",
    "train_loader = torch.utils.data.DataLoader(train_set,batch_size = 256, shuffle = True)\n",
    "Adam_RELU = Adam(model.parameters(), lr=0.001, weight_decay=0.0001)\n",
    "optimizer = Adam_RELU\n",
    "criterion = NLLLoss\n",
    "\n",
    "comment = f' ConvNet_RELU Adam_0_001 loss = NLLLoss'\n",
    "\n",
    "tb = SummaryWriter(log_dir = 'runs/Model_RELU_Loss_NLLLoss_Exp',comment=comment)\n",
    "for epoch in range(10):\n",
    "    total_loss = 0\n",
    "    total_correct = 0\n",
    "    train_accuracy=0.0\n",
    "    train_loss=0.0\n",
    "    model.train()\n",
    "    for images, labels in train_loader:\n",
    "        images, labels = images.to(device), labels.to(device)\n",
    "\n",
    "\n",
    "        if torch.cuda.is_available():\n",
    "          images=Variable(images.cuda())\n",
    "          labels=Variable(labels.cuda())\n",
    "        # at start of new batch the gradient is made 0    \n",
    "        optimizer.zero_grad()\n",
    "        # This gives us the prediction\n",
    "        outputs=model(images)\n",
    "        # cal loss using pred and actual value\n",
    "        lossEpoch=criterion(outputs,torch.unique(labels))\n",
    "        \n",
    "         #backpropogation\n",
    "        lossEpoch.backward()\n",
    "        # Update weights\n",
    "        optimizer.step()\n",
    "\n",
    "        # Multiply loss with image size\n",
    "        train_loss+= lossEpoch.cpu().data*images.size(0)\n",
    "        # The outputs are energies for the 6 classes. The higher the energy for a class, \n",
    "        # the more the network thinks that the image is of the particular class.\n",
    "        # So, let’s get the index of the highest energy:\n",
    "        _,prediction=torch.max(outputs.data,1)\n",
    "\n",
    "        train_accuracy+=int(torch.sum(prediction==labels.data))\n",
    "\n",
    "\n",
    "\n",
    "    total_loss_in_epoch = train_loss/train_count\n",
    "    tb.add_scalar(\"Loss\", total_loss_in_epoch.cpu().data.numpy(), epoch)\n",
    "         #tb.add_scalar(\"Correct\", total_correct, epoch)\n",
    "    tb.add_scalar(\"Accuracy\", train_accuracy/train_count, epoch)\n",
    "\n",
    "     # print(\"batch_size:\",batch_size, \"lr:\",lr,\"shuffle:\",shuffle)\n",
    "    print(\"epoch:\", epoch, \"Accuracy:\", train_accuracy/train_count,\"loss:\",train_loss/train_count)\n",
    "print(\"___________________________________________________________________\")\n",
    "\n",
    "\n",
    "\n",
    "tb.close()"
   ]
  },
  {
   "cell_type": "code",
   "execution_count": null,
   "metadata": {},
   "outputs": [],
   "source": [
    "# ConvNet for CrossEntropy loss\n",
    "class ConvNet(nn.Module):\n",
    "      def __init__(self, num_classes=6):\n",
    "            \n",
    "            super(ConvNet,self).__init__()\n",
    "\n",
    "            # Input Shape = (256,3,150,150) -> (Batch size, no. of channels, 150, 150 -> Image dim)\n",
    "            # Stride means scan X pixels, padding is how many pixels to keep around before passing -> 3x3\n",
    "            self.conv1 = nn.Conv2d(in_channels=3, out_channels=12, kernel_size=3, stride=1, padding=1)\n",
    "            #Shape -> (256,12,150,150)\n",
    "            self.bn1 = nn.BatchNorm2d(num_features=12)\n",
    "            #Shape -> (256,12,150,150)\n",
    "            self.relu1 = nn.ReLU()\n",
    "            #Shape -> (256,12,150,150)\n",
    "            self.pool = nn.MaxPool2d(kernel_size=2)\n",
    "            # Reduce the image size by factor of 2\n",
    "            #Shape -> (256,12, 75,75)\n",
    "\n",
    "\n",
    "            # 2nd Layer\n",
    "\n",
    "\n",
    "            self.conv2 = nn.Conv2d(in_channels=12, out_channels=20, kernel_size=3, stride=1, padding=1)\n",
    "            #Shape -> (256,12,75,75)\n",
    "            self.relu2 = nn.ReLU()\n",
    "            #Shape -> (256,20,75,75)\n",
    "\n",
    "\n",
    "            # 3rd Layer\n",
    "\n",
    "\n",
    "            self.conv3 = nn.Conv2d(in_channels=20, out_channels=32, kernel_size=3, stride=1, padding=1)\n",
    "            #Shape -> (256,32,75,75)\n",
    "            self.bn2 = nn.BatchNorm2d(num_features=32)\n",
    "            #Shape -> (256,32,75,75)\n",
    "            self.relu3 = nn.ReLU()\n",
    "            #Shape -> (256,32,75,75) \n",
    "\n",
    "            self.fullyConnected = nn.Linear(in_features=32*75*75, out_features=num_classes)\n",
    "\n",
    "      # Feed forward function\n",
    "      def forward(self, input):\n",
    "            \n",
    "            output = self.conv1(input)\n",
    "            output = self.bn1(output)\n",
    "            output = self.relu1(output)\n",
    "\n",
    "            output = self.pool(output)\n",
    "\n",
    "            output = self.conv2(output)\n",
    "            output = self.relu2(output)\n",
    "\n",
    "            output = self.conv3(output)\n",
    "            output = self.bn2(output)\n",
    "            output = self.relu3(output)\n",
    "\n",
    "            # the output will be in matric form of shape (256,32,75,75)\n",
    "            # in order to feed it to fully connected layer output needs to be reshaped\n",
    "\n",
    "            output = output.view(-1,32*75*75)\n",
    "            output = self.fullyConnected(output)\n",
    "\n",
    "            return output\n"
   ]
  },
  {
   "cell_type": "code",
   "execution_count": null,
   "metadata": {},
   "outputs": [],
   "source": [
    "model = ConvNet(num_classes=6).to(device)"
   ]
  },
  {
   "cell_type": "code",
   "execution_count": null,
   "metadata": {},
   "outputs": [],
   "source": [
    "# Training Loop\n",
    "\n",
    "train_loader = torch.utils.data.DataLoader(train_set,batch_size = 256, shuffle = True)\n",
    "Adam_RELU = Adam(model.parameters(), lr=0.001, weight_decay=0.0001)\n",
    "optimizer = Adam_RELU\n",
    "criterion = CrossEntropyLoss\n",
    "\n",
    "comment = f' ConvNet_RELU Adam_0_001 loss = CrossEntropyLoss'\n",
    "\n",
    "tb = SummaryWriter(log_dir = 'runs/Model_RELU_Loss_CrossEntropyLoss_Exp',comment=comment)\n",
    "for epoch in range(10):\n",
    "    total_loss = 0\n",
    "    total_correct = 0\n",
    "    train_accuracy=0.0\n",
    "    train_loss=0.0\n",
    "    model.train()\n",
    "    for images, labels in train_loader:\n",
    "        images, labels = images.to(device), labels.to(device)\n",
    "\n",
    "\n",
    "        if torch.cuda.is_available():\n",
    "          images=Variable(images.cuda())\n",
    "          labels=Variable(labels.cuda())\n",
    "        # at start of new batch the gradient is made 0    \n",
    "        optimizer.zero_grad()\n",
    "        # This gives us the prediction\n",
    "        outputs=model(images)\n",
    "        # cal loss using pred and actual value\n",
    "        lossEpoch=criterion(outputs,torch.unique(labels))\n",
    "        \n",
    "         #backpropogation\n",
    "        lossEpoch.backward()\n",
    "        # Update weights\n",
    "        optimizer.step()\n",
    "\n",
    "        # Multiply loss with image size\n",
    "        train_loss+= lossEpoch.cpu().data*images.size(0)\n",
    "        # The outputs are energies for the 6 classes. The higher the energy for a class, \n",
    "        # the more the network thinks that the image is of the particular class.\n",
    "        # So, let’s get the index of the highest energy:\n",
    "        _,prediction=torch.max(outputs.data,1)\n",
    "\n",
    "        train_accuracy+=int(torch.sum(prediction==labels.data))\n",
    "\n",
    "\n",
    "\n",
    "    total_loss_in_epoch = train_loss/train_count\n",
    "    tb.add_scalar(\"Loss\", total_loss_in_epoch.cpu().data.numpy(), epoch)\n",
    "         #tb.add_scalar(\"Correct\", total_correct, epoch)\n",
    "    tb.add_scalar(\"Accuracy\", train_accuracy/train_count, epoch)\n",
    "\n",
    "     # print(\"batch_size:\",batch_size, \"lr:\",lr,\"shuffle:\",shuffle)\n",
    "    print(\"epoch:\", epoch, \"Accuracy:\", train_accuracy/train_count,\"loss:\",train_loss/train_count)\n",
    "print(\"___________________________________________________________________\")\n",
    "\n",
    "\n",
    "\n",
    "tb.close()"
   ]
  },
  {
   "cell_type": "markdown",
   "metadata": {},
   "source": [
    "#### Accuracy and Loss Plots as from Tensorboard\n",
    "\n",
    "NOTE : **For running the tensorboard in discovery cluster, we need to launch separate instance of tensorboard from Interactive Apps**\n",
    "\n",
    "#### Inference 🔎\n",
    "\n",
    "It is observed that the changes in Cost function didnt affect the output accuracy and loss by much, given the no. of epochs is 10. One reason being that cross entropy and NLL have similar calculation algorithm.\n",
    "If this model is tested on a test set or validation set, we can know more about its performance."
   ]
  },
  {
   "cell_type": "markdown",
   "metadata": {},
   "source": [
    "![loss_accuracy](https://user-images.githubusercontent.com/13203059/145697939-75c3f767-2495-4ff7-a955-926840eb6735.jpg)\n",
    "\n",
    "![lossfn_loss](https://user-images.githubusercontent.com/13203059/145697951-a1b80695-cd9b-4da7-8e9c-3f12fe2e3dbb.jpg)\n"
   ]
  },
  {
   "cell_type": "markdown",
   "metadata": {
    "id": "qR2Bm2uYpdQj"
   },
   "source": [
    "### 3.4 Affect of Different Epochs 3️⃣\n",
    "\n",
    "Here I will record the training over **15 Epochs**, 5 more than usual Epochs run in previous experiments and observe the **affects** of these **on accuracy, loss** in Tensorboard - \n"
   ]
  },
  {
   "cell_type": "code",
   "execution_count": 107,
   "metadata": {
    "id": "UQ444WZgptcl"
   },
   "outputs": [
    {
     "name": "stdout",
     "output_type": "stream",
     "text": [
      "epoch: 0 Accuracy 0.5484537551660253 loss: tensor(7.9433)\n",
      "epoch: 1 Accuracy 0.7314379364400742 loss: tensor(1.1803)\n",
      "epoch: 2 Accuracy 0.7855208778680348 loss: tensor(0.8853)\n",
      "epoch: 3 Accuracy 0.827704147071398 loss: tensor(0.7189)\n",
      "epoch: 4 Accuracy 0.8503634031637451 loss: tensor(0.6395)\n",
      "epoch: 5 Accuracy 0.8740914920906371 loss: tensor(0.5730)\n",
      "epoch: 6 Accuracy 0.9225452472566624 loss: tensor(0.2965)\n",
      "epoch: 7 Accuracy 0.9430668376799202 loss: tensor(0.1907)\n",
      "epoch: 8 Accuracy 0.9293145218754454 loss: tensor(0.2818)\n",
      "epoch: 9 Accuracy 0.9288869887416275 loss: tensor(0.2906)\n",
      "epoch: 10 Accuracy 0.9590993301980903 loss: tensor(0.1419)\n",
      "epoch: 11 Accuracy 0.9619495510902095 loss: tensor(0.1366)\n",
      "epoch: 12 Accuracy 0.9687188257089925 loss: tensor(0.1142)\n",
      "epoch: 13 Accuracy 0.973421690180989 loss: tensor(0.0962)\n",
      "epoch: 14 Accuracy 0.9883140943423115 loss: tensor(0.0461)\n",
      "___________________________________________________________________\n"
     ]
    }
   ],
   "source": [
    "# Training Loop\n",
    "\n",
    "# model = ConvNet().to(device)\n",
    "train_loader = torch.utils.data.DataLoader(train_set,batch_size = 256, shuffle = True)\n",
    "Adam_RELU = Adam(model.parameters(), lr=0.001, weight_decay=0.0001)\n",
    "optimizer = Adam_RELU\n",
    "loss = CrossEntropyLoss\n",
    "comment = f' ConvNet_RELU Adam_0_001_CrossEntropy'\n",
    "# print('LOSS HERE---',loss[run_id])\n",
    "tb = SummaryWriter(log_dir = 'runs/Model_RELU_EPOCH_Exp',comment=comment)\n",
    "for epoch in range(15):\n",
    "    total_loss = 0\n",
    "    total_correct = 0\n",
    "    train_accuracy=0.0\n",
    "    train_loss=0.0\n",
    "    model.train()\n",
    "    for images, labels in train_loader:\n",
    "        images, labels = images.to(device), labels.to(device)\n",
    "\n",
    "        if torch.cuda.is_available():\n",
    "          images=Variable(images.cuda())\n",
    "          labels=Variable(labels.cuda())\n",
    "        # at start of new batch the gradient is made 0    \n",
    "        optimizer.zero_grad()\n",
    "        # This gives us the prediction\n",
    "        outputs=model(images)\n",
    "        # cal loss using pred and actual value\n",
    "        lossEpoch=loss(outputs,labels)\n",
    "        #backpropogation\n",
    "        lossEpoch.backward()\n",
    "        # Update weights\n",
    "        optimizer.step()\n",
    "\n",
    "        # Multiply loss with image size\n",
    "        train_loss+= lossEpoch.cpu().data*images.size(0)\n",
    "        # The outputs are energies for the 6 classes. The higher the energy for a class, \n",
    "        # the more the network thinks that the image is of the particular class.\n",
    "        # So, let’s get the index of the highest energy:\n",
    "        _,prediction=torch.max(outputs.data,1)\n",
    "\n",
    "        train_accuracy+=int(torch.sum(prediction==labels.data))\n",
    "\n",
    "\n",
    "\n",
    "    total_loss_in_epoch = train_loss/train_count\n",
    "    tb.add_scalar(\"Loss\", total_loss_in_epoch.cpu().data.numpy(), epoch)\n",
    "     #tb.add_scalar(\"Correct\", total_correct, epoch)\n",
    "    tb.add_scalar(\"Accuracy\", train_accuracy/train_count, epoch)\n",
    "\n",
    "    # print(\"batch_size:\",batch_size, \"lr:\",lr,\"shuffle:\",shuffle)\n",
    "    print(\"epoch:\", epoch,\"Accuracy\", train_accuracy/train_count,\"loss:\",train_loss/train_count)\n",
    "print(\"___________________________________________________________________\")\n",
    "\n",
    "\n",
    "tb.close()"
   ]
  },
  {
   "cell_type": "markdown",
   "metadata": {},
   "source": [
    "#### Accuracy and Loss Plots as from Tensorboard\n",
    "\n",
    "NOTE : **For running the tensorboard in discovery cluster, we need to launch separate instance of tensorboard from Interactive Apps**\n",
    "\n",
    "#### Inference 🔎\n",
    "\n",
    "It is observed that the changes in Epoch runs affect the output accuracy and loss since the model reduces the subsequent loss by adjusting weights. We can see that perhaps the model may plateau after 15 epochs.\n",
    "If this model is tested on a test set or validation set, we can know more about its performance."
   ]
  },
  {
   "cell_type": "markdown",
   "metadata": {},
   "source": [
    "![epoch_accuracy](https://user-images.githubusercontent.com/13203059/145697967-a4501de0-f0c0-478a-995a-2f0db58c03cd.jpg)\n",
    "\n",
    "![epoch_loss](https://user-images.githubusercontent.com/13203059/145698004-2e1c0ceb-4ca1-48e7-a6e7-8c29b211bf84.jpg)\n"
   ]
  },
  {
   "cell_type": "markdown",
   "metadata": {
    "id": "9wec6qMHrs6m"
   },
   "source": [
    "### 3.5 Affect of Different Gradient Estimation 4️⃣\n",
    "\n",
    "Here I will compare two gradient estimations on ConvNet - \n",
    "\n",
    "Change the gradient estimation. How does it affect accuracy? How does it affect how quickly the network plateaus?\n",
    "Various forms of gradient estimation:\n",
    "\n",
    "- Adam ✅\n",
    "- Stochastic Gradient Descent(SGD) ✅\n",
    "- AGAdadelta\n",
    "- Momentum\n",
    "- Adagrad\n",
    "- RMSProp"
   ]
  },
  {
   "cell_type": "code",
   "execution_count": 49,
   "metadata": {
    "colab": {
     "base_uri": "https://localhost:8080/"
    },
    "id": "W7RWtpX8-hHl",
    "outputId": "965439f3-cf33-4427-87ce-224ff95023ed"
   },
   "outputs": [
    {
     "name": "stdout",
     "output_type": "stream",
     "text": [
      "lr: 0.001 loss: tensor(2.6736)\n",
      "epoch: 0 Accuracy 0.4343736639589568 loss: tensor(2.6736)\n",
      "lr: 0.001 loss: tensor(1.4788)\n",
      "epoch: 1 Accuracy 0.5658401026079521 loss: tensor(1.4788)\n",
      "lr: 0.001 loss: tensor(1.2393)\n",
      "epoch: 2 Accuracy 0.6136525580732507 loss: tensor(1.2393)\n",
      "lr: 0.001 loss: tensor(0.9904)\n",
      "epoch: 3 Accuracy 0.6710845090494514 loss: tensor(0.9904)\n",
      "lr: 0.001 loss: tensor(0.8806)\n",
      "epoch: 4 Accuracy 0.7035770272196096 loss: tensor(0.8806)\n",
      "lr: 0.001 loss: tensor(0.7800)\n",
      "epoch: 5 Accuracy 0.725167450477412 loss: tensor(0.7800)\n",
      "lr: 0.001 loss: tensor(0.7159)\n",
      "epoch: 6 Accuracy 0.7504631608949693 loss: tensor(0.7159)\n",
      "lr: 0.001 loss: tensor(0.6421)\n",
      "epoch: 7 Accuracy 0.7719110731081659 loss: tensor(0.6421)\n",
      "lr: 0.001 loss: tensor(0.5737)\n",
      "epoch: 8 Accuracy 0.794712840245119 loss: tensor(0.5737)\n",
      "lr: 0.001 loss: tensor(0.5364)\n",
      "epoch: 9 Accuracy 0.8167307966367393 loss: tensor(0.5364)\n",
      "lr: 0.001 loss: tensor(0.5096)\n",
      "epoch: 10 Accuracy 0.8249964372238848 loss: tensor(0.5096)\n",
      "lr: 0.001 loss: tensor(0.4851)\n",
      "epoch: 11 Accuracy 0.83133817870885 loss: tensor(0.4851)\n",
      "___________________________________________________________________\n"
     ]
    }
   ],
   "source": [
    "#  Training Loop on convnet RELU SGD with different Lr\n",
    "# Learning Rate = 0.001\n",
    "train_loader = torch.utils.data.DataLoader(train_set,batch_size = 256, shuffle = True)\n",
    "optimizer = SGD(model.parameters(), lr=0.001)\n",
    "loss_criterion = CrossEntropyLoss\n",
    "# model_names= ['ConvNet_RELU', 'ConvNet_ELU']\n",
    "comment = f'model_RELU batch_size=256 lr = 0.001 grad_est = SGD CrossEntropyLoss'\n",
    "tb = SummaryWriter(log_dir = 'runs/Model_RELU_GradientEstim_SGD_0.001_Exp',comment=comment)\n",
    "for epoch in range(12):\n",
    "    total_loss = 0\n",
    "    total_correct = 0\n",
    "    train_accuracy=0.0\n",
    "    train_loss=0.0\n",
    "    for images, labels in train_loader:\n",
    "        images, labels = images.to(device), labels.to(device)\n",
    "        if torch.cuda.is_available():\n",
    "          images=Variable(images.cuda())\n",
    "          labels=Variable(labels.cuda())\n",
    "        # at start of new batch the gradient is made 0    \n",
    "        optimizer.zero_grad()\n",
    "        # This gives us the prediction\n",
    "        outputs=model(images)\n",
    "        # cal loss using pred and actual value\n",
    "        lossEpoch=loss_criterion(outputs,labels)\n",
    "        #backpropogation\n",
    "        lossEpoch.backward()\n",
    "        # Update weights\n",
    "        optimizer.step()\n",
    "\n",
    "        # Multiply loss with image size\n",
    "        train_loss+= lossEpoch.cpu().data*images.size(0)\n",
    "        # The outputs are energies for the 6 classes. The higher the energy for a class, \n",
    "        # the more the network thinks that the image is of the particular class.\n",
    "        # So, let’s get the index of the highest energy:\n",
    "        _,prediction=torch.max(outputs.data,1)\n",
    "\n",
    "        train_accuracy+=int(torch.sum(prediction==labels.data))\n",
    "#             preds = model_type(images)\n",
    "\n",
    "#             lossObserved = loss_criterion(preds, labels)\n",
    "#             total_loss+= lossObserved.item()\n",
    "#             total_correct+= get_num_correct(preds, labels)\n",
    "\n",
    "#             optimizer.zero_grad()\n",
    "#             lossObserved.backward()\n",
    "#             optimizer.step()\n",
    "\n",
    "\n",
    "    tb.add_scalar(\"Loss\", train_loss/train_count, epoch)\n",
    "#         tb.add_scalar(\"Correct\", total_correct, epoch)\n",
    "    tb.add_scalar(\"Accuracy\", train_accuracy/train_count, epoch)\n",
    "\n",
    "    print(\"lr:\", \"0.001\", \"loss:\", train_loss/train_count)\n",
    "    print(\"epoch:\", epoch,\"Accuracy\", train_accuracy/train_count,\"loss:\",train_loss/train_count)\n",
    "print(\"___________________________________________________________________\")\n",
    "\n",
    "# tb.add_hparams(\n",
    "#         {\"model:\",model_type, \"batch_size:\", batch_size,\"gradient_est:\",gradient_est, \"loss:\", loss},\n",
    "#         {\n",
    "#             \"accuracy\": total_correct/train_count,\n",
    "#             \"loss\": total_loss,\n",
    "#         },\n",
    "#     )\n",
    "\n",
    "tb.close()\n"
   ]
  },
  {
   "cell_type": "code",
   "execution_count": 64,
   "metadata": {},
   "outputs": [
    {
     "name": "stdout",
     "output_type": "stream",
     "text": [
      "lr: 0.01 loss: tensor(102.5951)\n",
      "epoch: 0 Accuracy 0.36447199657973495 loss: tensor(102.5951)\n",
      "lr: 0.01 loss: tensor(3.1781)\n",
      "epoch: 1 Accuracy 0.2089924469146359 loss: tensor(3.1781)\n",
      "lr: 0.01 loss: tensor(1.8011)\n",
      "epoch: 2 Accuracy 0.2003705287159755 loss: tensor(1.8011)\n",
      "lr: 0.01 loss: tensor(1.7554)\n",
      "epoch: 3 Accuracy 0.2341456462875873 loss: tensor(1.7554)\n",
      "lr: 0.01 loss: tensor(1.6868)\n",
      "epoch: 4 Accuracy 0.28395325637736923 loss: tensor(1.6868)\n",
      "lr: 0.01 loss: tensor(1.5210)\n",
      "epoch: 5 Accuracy 0.4112156192104888 loss: tensor(1.5210)\n",
      "lr: 0.01 loss: tensor(1.3514)\n",
      "epoch: 6 Accuracy 0.48304118569189114 loss: tensor(1.3514)\n",
      "lr: 0.01 loss: tensor(1.2058)\n",
      "epoch: 7 Accuracy 0.533205073393188 loss: tensor(1.2058)\n",
      "lr: 0.01 loss: tensor(1.1178)\n",
      "epoch: 8 Accuracy 0.5669089354424968 loss: tensor(1.1178)\n",
      "lr: 0.01 loss: tensor(1.2785)\n",
      "epoch: 9 Accuracy 0.48959669374376513 loss: tensor(1.2785)\n",
      "lr: 0.01 loss: tensor(1.1189)\n",
      "epoch: 10 Accuracy 0.5684053014108593 loss: tensor(1.1189)\n",
      "lr: 0.01 loss: tensor(1.0139)\n",
      "epoch: 11 Accuracy 0.6218469431380932 loss: tensor(1.0139)\n",
      "___________________________________________________________________\n"
     ]
    }
   ],
   "source": [
    "# Training Loop on convnet RELU Adam with different Lr\n",
    "# for run_id, lrate in enumerate([0.01, 0.001]):\n",
    "#     print(\"run id:\", run_id + 1)\n",
    "# #     model_type = model_RELU\n",
    "train_loader = torch.utils.data.DataLoader(train_set,batch_size = 256, shuffle = True)\n",
    "optimizer = Adam(model.parameters(), lr=0.01)\n",
    "loss_criterion = CrossEntropyLoss\n",
    "# model_names= ['ConvNet_RELU', 'ConvNet_ELU']\n",
    "comment = f'model_RELU batch_size=256 lr = 0.01 grad_est = ADAM CrossEntropyLoss'\n",
    "tb = SummaryWriter(log_dir = 'runs/Model_RELU_GradientEstim_ADAM_0_01_Exp',comment=comment)\n",
    "for epoch in range(12):\n",
    "    total_loss = 0\n",
    "    total_correct = 0\n",
    "    train_accuracy=0.0\n",
    "    train_loss=0.0\n",
    "    for images, labels in train_loader:\n",
    "        images, labels = images.to(device), labels.to(device)\n",
    "        if torch.cuda.is_available():\n",
    "          images=Variable(images.cuda())\n",
    "          labels=Variable(labels.cuda())\n",
    "        # at start of new batch the gradient is made 0    \n",
    "        optimizer.zero_grad()\n",
    "        # This gives us the prediction\n",
    "        outputs=model(images)\n",
    "        # cal loss using pred and actual value\n",
    "        lossEpoch=loss_criterion(outputs,labels)\n",
    "        #backpropogation\n",
    "        lossEpoch.backward()\n",
    "        # Update weights\n",
    "        optimizer.step()\n",
    "\n",
    "        # Multiply loss with image size\n",
    "        train_loss+= lossEpoch.cpu().data*images.size(0)\n",
    "        # The outputs are energies for the 6 classes. The higher the energy for a class, \n",
    "        # the more the network thinks that the image is of the particular class.\n",
    "        # So, let’s get the index of the highest energy:\n",
    "        _,prediction=torch.max(outputs.data,1)\n",
    "\n",
    "        train_accuracy+=int(torch.sum(prediction==labels.data))\n",
    "#             preds = model_type(images)\n",
    "\n",
    "#             lossObserved = loss_criterion(preds, labels)\n",
    "#             total_loss+= lossObserved.item()\n",
    "#             total_correct+= get_num_correct(preds, labels)\n",
    "\n",
    "#             optimizer.zero_grad()\n",
    "#             lossObserved.backward()\n",
    "#             optimizer.step()\n",
    "\n",
    "\n",
    "    tb.add_scalar(\"Loss\", train_loss/train_count, epoch)\n",
    "#         tb.add_scalar(\"Correct\", total_correct, epoch)\n",
    "    tb.add_scalar(\"Accuracy\", train_accuracy/train_count, epoch)\n",
    "\n",
    "    print(\"lr:\", \"0.01\", \"loss:\", train_loss/train_count)\n",
    "    print(\"epoch:\", epoch,\"Accuracy\", train_accuracy/train_count,\"loss:\",train_loss/train_count)\n",
    "print(\"___________________________________________________________________\")\n",
    "\n",
    "# tb.add_hparams(\n",
    "#         {\"model:\",model_type, \"batch_size:\", batch_size,\"gradient_est:\",gradient_est, \"loss:\", loss},\n",
    "#         {\n",
    "#             \"accuracy\": total_correct/train_count,\n",
    "#             \"loss\": total_loss,\n",
    "#         },\n",
    "#     )\n",
    "\n",
    "tb.close()\n"
   ]
  },
  {
   "cell_type": "markdown",
   "metadata": {},
   "source": [
    "#### Accuracy and Loss Plots as from Tensorboard\n",
    "\n",
    "NOTE : **For running the tensorboard in discovery cluster, we need to launch separate instance of tensorboard from Interactive Apps**\n",
    "\n",
    "#### Inference 🔎\n",
    "\n",
    "It is observed that the changes in Gradient Estimatations affect the output accuracy and loss by a significant factor, given the no. of epochs is 12. The model using RELU activation ADAM gradient with 0.01 learning rate performs best.\n",
    "If this model is tested on a test set or validation set, we can know more about its performance."
   ]
  },
  {
   "cell_type": "markdown",
   "metadata": {},
   "source": [
    "![gradient_accuracy](https://user-images.githubusercontent.com/13203059/145698014-ad291d8e-14af-4646-a152-8fb41a074ae1.jpg)\n",
    "![gradient_loss](https://user-images.githubusercontent.com/13203059/145698018-7ee189e1-1213-4d72-a4df-31c7b9acc713.jpg)\n",
    "\n"
   ]
  },
  {
   "cell_type": "markdown",
   "metadata": {
    "id": "dKiyW7oytoUd"
   },
   "source": [
    "### 3.6 Affect of Different Network Architectures 5️⃣\n",
    "\n",
    "On the Deep Learning model changing the network architecture. How does it affect accuracy? How does it affect how quickly the network plateaus?\n",
    "\n",
    "Various forms of network architecture:\n",
    "\n",
    "- Number of layers\n",
    "\n",
    "- Size of each layer\n",
    "\n",
    "- Connection type\n"
   ]
  },
  {
   "cell_type": "code",
   "execution_count": 11,
   "metadata": {
    "id": "GHIESbNHwnSk"
   },
   "outputs": [],
   "source": [
    "#CNN network extra layer\n",
    "class ConvNet_RELU(nn.Module):\n",
    "  def __init__(self, num_classes=6):\n",
    "    super(ConvNet_RELU,self).__init__()\n",
    "\n",
    "    # Input Shape = (256,3,150,150) -> (Batch size, no. of channels, 150, 150 -> Image dim)\n",
    "    # Stride means scan X pixels, padding is how many pixels to keep around before passing -> 3x3\n",
    "    self.conv1 = nn.Conv2d(in_channels=3, out_channels=12, kernel_size=3, stride=1, padding=1)\n",
    "    #Shape -> (256,12,150,150)\n",
    "    self.bn1 = nn.BatchNorm2d(num_features=12)\n",
    "    #Shape -> (256,12,150,150)\n",
    "    self.relu1 = nn.ReLU()\n",
    "    #Shape -> (256,12,150,150)\n",
    "    self.pool = nn.MaxPool2d(kernel_size=2)\n",
    "    # Reduce the image size by factor of 2\n",
    "    #Shape -> (256,12, 75,75)\n",
    "\n",
    "\n",
    "    # 2nd Layer\n",
    "\n",
    "    \n",
    "    self.conv2 = nn.Conv2d(in_channels=12, out_channels=20, kernel_size=3, stride=1, padding=1)\n",
    "    #Shape -> (256,12,75,75)\n",
    "    self.relu2 = nn.ReLU()\n",
    "    #Shape -> (256,20,75,75)\n",
    "\n",
    "    \n",
    "    # 3rd Layer\n",
    "\n",
    "    \n",
    "    self.conv3 = nn.Conv2d(in_channels=20, out_channels=32, kernel_size=3, stride=1, padding=1)\n",
    "    #Shape -> (256,32,75,75)\n",
    "    self.bn2 = nn.BatchNorm2d(num_features=32)\n",
    "    #Shape -> (256,32,75,75)\n",
    "    self.relu3 = nn.ReLU()\n",
    "    #Shape -> (256,32,75,75) \n",
    "    \n",
    "    # 4th layer Added Extra Layer to check the affect on Accuracy&Loss ✔\n",
    "    \n",
    "    self.conv4 = nn.Conv2d(in_channels=32, out_channels=44, kernel_size=3, stride=1, padding=1)\n",
    "    #Shape -> (256,32,75,75)\n",
    "    self.bn3 = nn.BatchNorm2d(num_features=44)\n",
    "    #Shape -> (256,32,75,75)\n",
    "    self.relu4 = nn.ReLU()\n",
    "    #Shape -> (256,32,75,75) \n",
    "\n",
    "    self.fullyConnected = nn.Linear(in_features=44*75*75, out_features=num_classes)\n",
    "\n",
    "# Feed forward function\n",
    "  def forward(self, input):\n",
    "    output = self.conv1(input)\n",
    "    output = self.bn1(output)\n",
    "    output = self.relu1(output)\n",
    "\n",
    "    output = self.pool(output)\n",
    "\n",
    "    output = self.conv2(output)\n",
    "    output = self.relu2(output)\n",
    "\n",
    "    output = self.conv3(output)\n",
    "    output = self.bn2(output)\n",
    "    output = self.relu3(output)\n",
    "    \n",
    "    output = self.conv4(output)\n",
    "    output = self.bn3(output)\n",
    "    output = self.relu4(output)\n",
    "\n",
    "    # the output will be in matric form of shape (256,32,75,75)\n",
    "    # in order to feed it to fully connected layer output needs to be reshaped\n",
    "\n",
    "    output = output.view(-1,44*75*75)\n",
    "    output = self.fullyConnected(output)\n",
    "\n",
    "    return output\n"
   ]
  },
  {
   "cell_type": "code",
   "execution_count": 12,
   "metadata": {
    "id": "XJCoBozwwqA7"
   },
   "outputs": [],
   "source": [
    "model_RELU = ConvNet_RELU(num_classes=6).to(device)"
   ]
  },
  {
   "cell_type": "code",
   "execution_count": 13,
   "metadata": {},
   "outputs": [
    {
     "name": "stdout",
     "output_type": "stream",
     "text": [
      "----------------------------------------------------------------\n",
      "        Layer (type)               Output Shape         Param #\n",
      "================================================================\n",
      "            Conv2d-1         [-1, 12, 150, 150]             336\n",
      "       BatchNorm2d-2         [-1, 12, 150, 150]              24\n",
      "              ReLU-3         [-1, 12, 150, 150]               0\n",
      "         MaxPool2d-4           [-1, 12, 75, 75]               0\n",
      "            Conv2d-5           [-1, 20, 75, 75]           2,180\n",
      "              ReLU-6           [-1, 20, 75, 75]               0\n",
      "            Conv2d-7           [-1, 32, 75, 75]           5,792\n",
      "       BatchNorm2d-8           [-1, 32, 75, 75]              64\n",
      "              ReLU-9           [-1, 32, 75, 75]               0\n",
      "           Conv2d-10           [-1, 44, 75, 75]          12,716\n",
      "      BatchNorm2d-11           [-1, 44, 75, 75]              88\n",
      "             ReLU-12           [-1, 44, 75, 75]               0\n",
      "           Linear-13                    [-1, 6]       1,485,006\n",
      "================================================================\n",
      "Total params: 1,506,206\n",
      "Trainable params: 1,506,206\n",
      "Non-trainable params: 0\n",
      "----------------------------------------------------------------\n",
      "Input size (MB): 0.26\n",
      "Forward/backward pass size (MB): 18.20\n",
      "Params size (MB): 5.75\n",
      "Estimated Total Size (MB): 24.20\n",
      "----------------------------------------------------------------\n"
     ]
    }
   ],
   "source": [
    "summary(model_RELU, (3,150,150))"
   ]
  },
  {
   "cell_type": "code",
   "execution_count": 58,
   "metadata": {},
   "outputs": [
    {
     "name": "stdout",
     "output_type": "stream",
     "text": [
      "epoch: 0 Accuracy: 0.5078381074533276 loss: tensor(13.9754)\n",
      "epoch: 1 Accuracy: 0.6901809890266496 loss: tensor(1.7204)\n",
      "epoch: 2 Accuracy: 0.7696308963944706 loss: tensor(0.9795)\n",
      "epoch: 3 Accuracy: 0.8134530426108023 loss: tensor(0.7053)\n",
      "epoch: 4 Accuracy: 0.8349009548239988 loss: tensor(0.6299)\n",
      "epoch: 5 Accuracy: 0.8448767279464159 loss: tensor(0.6283)\n",
      "epoch: 6 Accuracy: 0.8886276186404446 loss: tensor(0.4116)\n",
      "epoch: 7 Accuracy: 0.927319367250962 loss: tensor(0.2586)\n",
      "epoch: 8 Accuracy: 0.9113581302550948 loss: tensor(0.3433)\n",
      "epoch: 9 Accuracy: 0.9234715690466011 loss: tensor(0.3014)\n",
      "epoch: 10 Accuracy: 0.956747897962092 loss: tensor(0.1614)\n",
      "epoch: 11 Accuracy: 0.9429955821576173 loss: tensor(0.2208)\n",
      "___________________________________________________________________\n"
     ]
    }
   ],
   "source": [
    "# Training\n",
    "\n",
    "train_loader = torch.utils.data.DataLoader(train_set,batch_size = 256, shuffle = True)\n",
    "Adam_RELU = Adam(model_RELU.parameters(), lr=0.001, weight_decay=0.0001)\n",
    "optimizer = Adam_RELU\n",
    "criterion = CrossEntropyLoss\n",
    "\n",
    "comment = f' ConvNet_RELU Adam_0_001 loss = CrossEntropyLoss'\n",
    "\n",
    "tb = SummaryWriter(log_dir = 'runs/Model_RELU_Netw_Arch_Exp',comment=comment)\n",
    "for epoch in range(12):\n",
    "    total_loss = 0\n",
    "    total_correct = 0\n",
    "    train_accuracy=0.0\n",
    "    train_loss=0.0\n",
    "    model.train()\n",
    "    for images, labels in train_loader:\n",
    "        images, labels = images.to(device), labels.to(device)\n",
    "\n",
    "\n",
    "        if torch.cuda.is_available():\n",
    "          images=Variable(images.cuda())\n",
    "          labels=Variable(labels.cuda())\n",
    "        # at start of new batch the gradient is made 0    \n",
    "        optimizer.zero_grad()\n",
    "        # This gives us the prediction\n",
    "        outputs=model_RELU(images)\n",
    "        # cal loss using pred and actual value\n",
    "        lossEpoch=criterion(outputs,labels)\n",
    "        \n",
    "         #backpropogation\n",
    "        lossEpoch.backward()\n",
    "        # Update weights\n",
    "        optimizer.step()\n",
    "\n",
    "        # Multiply loss with image size\n",
    "        train_loss+= lossEpoch.cpu().data*images.size(0)\n",
    "        # The outputs are energies for the 6 classes. The higher the energy for a class, \n",
    "        # the more the network thinks that the image is of the particular class.\n",
    "        # So, let’s get the index of the highest energy:\n",
    "        _,prediction=torch.max(outputs.data,1)\n",
    "\n",
    "        train_accuracy+=int(torch.sum(prediction==labels.data))\n",
    "\n",
    "\n",
    "\n",
    "    total_loss_in_epoch = train_loss/train_count\n",
    "    tb.add_scalar(\"Loss\", total_loss_in_epoch.cpu().data.numpy(), epoch)\n",
    "         #tb.add_scalar(\"Correct\", total_correct, epoch)\n",
    "    tb.add_scalar(\"Accuracy\", train_accuracy/train_count, epoch)\n",
    "\n",
    "     # print(\"batch_size:\",batch_size, \"lr:\",lr,\"shuffle:\",shuffle)\n",
    "    print(\"epoch:\", epoch, \"Accuracy:\", train_accuracy/train_count,\"loss:\",train_loss/train_count)\n",
    "print(\"___________________________________________________________________\")\n",
    "\n",
    "\n",
    "\n",
    "tb.close()"
   ]
  },
  {
   "cell_type": "code",
   "execution_count": 14,
   "metadata": {},
   "outputs": [],
   "source": [
    "#CNN network no extra layer, additional layer removed\n",
    "class ConvNet_RELU(nn.Module):\n",
    "  def __init__(self, num_classes=6):\n",
    "    super(ConvNet_RELU,self).__init__()\n",
    "\n",
    "    # Input Shape = (256,3,150,150) -> (Batch size, no. of channels, 150, 150 -> Image dim)\n",
    "    # Stride means scan X pixels, padding is how many pixels to keep around before passing -> 3x3\n",
    "    self.conv1 = nn.Conv2d(in_channels=3, out_channels=12, kernel_size=3, stride=1, padding=1)\n",
    "    #Shape -> (256,12,150,150)\n",
    "    self.bn1 = nn.BatchNorm2d(num_features=12)\n",
    "    #Shape -> (256,12,150,150)\n",
    "    self.relu1 = nn.ReLU()\n",
    "    #Shape -> (256,12,150,150)\n",
    "    self.pool = nn.MaxPool2d(kernel_size=2)\n",
    "    # Reduce the image size by factor of 2\n",
    "    #Shape -> (256,12, 75,75)\n",
    "\n",
    "\n",
    "    # 2nd Layer\n",
    "\n",
    "    \n",
    "    self.conv2 = nn.Conv2d(in_channels=12, out_channels=20, kernel_size=3, stride=1, padding=1)\n",
    "    #Shape -> (256,12,75,75)\n",
    "    self.bn2 = nn.BatchNorm2d(num_features=20)\n",
    "    self.relu2 = nn.ReLU()\n",
    "    #Shape -> (256,20,75,75)\n",
    "\n",
    "    \n",
    "    # 3rd Layer\n",
    "\n",
    "    \n",
    "#     self.conv3 = nn.Conv2d(in_channels=20, out_channels=32, kernel_size=3, stride=1, padding=1)\n",
    "#     #Shape -> (256,32,75,75)\n",
    "#     self.bn2 = nn.BatchNorm2d(num_features=32)\n",
    "#     #Shape -> (256,32,75,75)\n",
    "#     self.relu3 = nn.ReLU()\n",
    "    #Shape -> (256,32,75,75) \n",
    "    \n",
    "    # 4th layer Added Extra Layer to check the affect on Accuracy&Loss ✔\n",
    "    \n",
    "#     self.conv4 = nn.Conv2d(in_channels=32, out_channels=44, kernel_size=3, stride=1, padding=1)\n",
    "    #Shape -> (256,32,75,75)\n",
    "#     self.bn3 = nn.BatchNorm2d(num_features=44)\n",
    "    #Shape -> (256,32,75,75)\n",
    "#     self.relu4 = nn.ReLU()\n",
    "    #Shape -> (256,32,75,75) \n",
    "\n",
    "    self.fullyConnected = nn.Linear(in_features=20*75*75, out_features=num_classes)\n",
    "\n",
    "# Feed forward function\n",
    "  def forward(self, input):\n",
    "    output = self.conv1(input)\n",
    "    output = self.bn1(output)\n",
    "    output = self.relu1(output)\n",
    "\n",
    "    output = self.pool(output)\n",
    "\n",
    "    output = self.conv2(output)\n",
    "    output = self.bn2(output)\n",
    "    output = self.relu2(output)\n",
    "\n",
    "#     output = self.conv3(output)\n",
    "    \n",
    "#     output = self.relu3(output)\n",
    "    \n",
    "#     output = self.conv4(output)\n",
    "#     output = self.bn3(output)\n",
    "#     output = self.relu4(output)\n",
    "\n",
    "    # the output will be in matric form of shape (256,32,75,75)\n",
    "    # in order to feed it to fully connected layer output needs to be reshaped\n",
    "\n",
    "    output = output.view(-1,20*75*75)\n",
    "    output = self.fullyConnected(output)\n",
    "\n",
    "    return output"
   ]
  },
  {
   "cell_type": "code",
   "execution_count": 15,
   "metadata": {},
   "outputs": [],
   "source": [
    "model_RELU = ConvNet_RELU(num_classes=6).to(device)"
   ]
  },
  {
   "cell_type": "code",
   "execution_count": 16,
   "metadata": {},
   "outputs": [
    {
     "name": "stdout",
     "output_type": "stream",
     "text": [
      "----------------------------------------------------------------\n",
      "        Layer (type)               Output Shape         Param #\n",
      "================================================================\n",
      "            Conv2d-1         [-1, 12, 150, 150]             336\n",
      "       BatchNorm2d-2         [-1, 12, 150, 150]              24\n",
      "              ReLU-3         [-1, 12, 150, 150]               0\n",
      "         MaxPool2d-4           [-1, 12, 75, 75]               0\n",
      "            Conv2d-5           [-1, 20, 75, 75]           2,180\n",
      "       BatchNorm2d-6           [-1, 20, 75, 75]              40\n",
      "              ReLU-7           [-1, 20, 75, 75]               0\n",
      "            Linear-8                    [-1, 6]         675,006\n",
      "================================================================\n",
      "Total params: 677,586\n",
      "Trainable params: 677,586\n",
      "Non-trainable params: 0\n",
      "----------------------------------------------------------------\n",
      "Input size (MB): 0.26\n",
      "Forward/backward pass size (MB): 9.27\n",
      "Params size (MB): 2.58\n",
      "Estimated Total Size (MB): 12.11\n",
      "----------------------------------------------------------------\n"
     ]
    }
   ],
   "source": [
    "summary(model_RELU, (3,150,150))"
   ]
  },
  {
   "cell_type": "code",
   "execution_count": 61,
   "metadata": {},
   "outputs": [
    {
     "name": "stdout",
     "output_type": "stream",
     "text": [
      "epoch: 0 Accuracy: 0.5389055151774262 loss: tensor(7.6321)\n",
      "epoch: 1 Accuracy: 0.725238705999715 loss: tensor(1.0242)\n",
      "epoch: 2 Accuracy: 0.8063274903805044 loss: tensor(0.6265)\n",
      "epoch: 3 Accuracy: 0.844449194812598 loss: tensor(0.4784)\n",
      "epoch: 4 Accuracy: 0.8666096622488243 loss: tensor(0.4380)\n",
      "epoch: 5 Accuracy: 0.8916203505771697 loss: tensor(0.3297)\n",
      "epoch: 6 Accuracy: 0.9386489952971355 loss: tensor(0.1906)\n",
      "epoch: 7 Accuracy: 0.9526863331908223 loss: tensor(0.1559)\n",
      "epoch: 8 Accuracy: 0.9616645290009975 loss: tensor(0.1277)\n",
      "epoch: 9 Accuracy: 0.9731366680917771 loss: tensor(0.0948)\n",
      "epoch: 10 Accuracy: 0.956961664529001 loss: tensor(0.1420)\n",
      "epoch: 11 Accuracy: 0.9759868889838963 loss: tensor(0.0826)\n",
      "___________________________________________________________________\n"
     ]
    }
   ],
   "source": [
    "# Training\n",
    "\n",
    "train_loader = torch.utils.data.DataLoader(train_set,batch_size = 256, shuffle = True)\n",
    "Adam_RELU = Adam(model_RELU.parameters(), lr=0.001, weight_decay=0.0001)\n",
    "optimizer = Adam_RELU\n",
    "criterion = CrossEntropyLoss\n",
    "\n",
    "comment = f' ConvNet_RELU Adam_0_001_2_layer loss = CrossEntropyLoss'\n",
    "\n",
    "tb = SummaryWriter(log_dir = 'runs/Model_RELU_Netw_Arch_2_layer_Exp',comment=comment)\n",
    "for epoch in range(12):\n",
    "    total_loss = 0\n",
    "    total_correct = 0\n",
    "    train_accuracy=0.0\n",
    "    train_loss=0.0\n",
    "    model.train()\n",
    "    for images, labels in train_loader:\n",
    "        images, labels = images.to(device), labels.to(device)\n",
    "\n",
    "\n",
    "        if torch.cuda.is_available():\n",
    "          images=Variable(images.cuda())\n",
    "          labels=Variable(labels.cuda())\n",
    "        # at start of new batch the gradient is made 0    \n",
    "        optimizer.zero_grad()\n",
    "        # This gives us the prediction\n",
    "        outputs=model_RELU(images)\n",
    "        # cal loss using pred and actual value\n",
    "        lossEpoch=criterion(outputs,labels)\n",
    "        \n",
    "         #backpropogation\n",
    "        lossEpoch.backward()\n",
    "        # Update weights\n",
    "        optimizer.step()\n",
    "\n",
    "        # Multiply loss with image size\n",
    "        train_loss+= lossEpoch.cpu().data*images.size(0)\n",
    "        # The outputs are energies for the 6 classes. The higher the energy for a class, \n",
    "        # the more the network thinks that the image is of the particular class.\n",
    "        # So, let’s get the index of the highest energy:\n",
    "        _,prediction=torch.max(outputs.data,1)\n",
    "\n",
    "        train_accuracy+=int(torch.sum(prediction==labels.data))\n",
    "\n",
    "\n",
    "\n",
    "    total_loss_in_epoch = train_loss/train_count\n",
    "    tb.add_scalar(\"Loss\", total_loss_in_epoch.cpu().data.numpy(), epoch)\n",
    "         #tb.add_scalar(\"Correct\", total_correct, epoch)\n",
    "    tb.add_scalar(\"Accuracy\", train_accuracy/train_count, epoch)\n",
    "\n",
    "     # print(\"batch_size:\",batch_size, \"lr:\",lr,\"shuffle:\",shuffle)\n",
    "    print(\"epoch:\", epoch, \"Accuracy:\", train_accuracy/train_count,\"loss:\",train_loss/train_count)\n",
    "print(\"___________________________________________________________________\")\n",
    "\n",
    "\n",
    "\n",
    "tb.close()"
   ]
  },
  {
   "cell_type": "markdown",
   "metadata": {},
   "source": [
    "#### Accuracy and Loss Plots as from Tensorboard\n",
    "\n",
    "NOTE : **For running the tensorboard in discovery cluster, we need to launch separate instance of tensorboard from Interactive Apps**\n",
    "\n",
    "#### Inference 🔎\n",
    "\n",
    "It is observed that the changes in network architecture by adding another hidden layer and also having just 2 layers in the network, given the no. of epochs is 12 -> the one with lesser number of layers performed slightly better, suggesting that adding layers beyond a point perhaps dosent affect performance.\n",
    "If this model is tested on a test set or validation set, we can know more about its performance and whether the high accuracy and low loss in 2 layer model is actually good or not."
   ]
  },
  {
   "cell_type": "markdown",
   "metadata": {},
   "source": [
    "![compare_netw_arch_accuracy](https://user-images.githubusercontent.com/13203059/145698028-7962a775-1b45-4d24-b4a9-64211b6cde60.png)\n",
    "![compare_netw_arch_loss](https://user-images.githubusercontent.com/13203059/145698030-67c4f5b3-51ea-400c-a1f1-8d08414085b8.png)\n",
    "\n"
   ]
  },
  {
   "cell_type": "markdown",
   "metadata": {},
   "source": [
    "### 3.7 Affect of Different Network Initialization 6️⃣\n",
    "Change the network initialization. How does it affect accuracy? How does it affect how quickly the network plateaus?\n",
    "\n",
    "Various forms of network initialization:\n",
    "\n",
    "- 0\n",
    "- UniformGaussian\n",
    "- Xavier Uniform ✅\n",
    "- Glorot Initialization ->  http://andyljones.tumblr.com/post/110998971763/an-explanation-of-xavier-initializationXavier\n",
    "- Uniform\n",
    "- Xavier Gaussian\n",
    "- Kaiming He Uniform ✅\n",
    "\n",
    "Reference - https://www.youtube.com/watch?v=xWQ-p_o0Uik"
   ]
  },
  {
   "cell_type": "code",
   "execution_count": 69,
   "metadata": {},
   "outputs": [],
   "source": [
    "#CNN network \n",
    "class ConvNet(nn.Module):\n",
    "      def __init__(self, num_classes=6):\n",
    "            \n",
    "            super(ConvNet,self).__init__()\n",
    "\n",
    "            # Input Shape = (256,3,150,150) -> (Batch size, no. of channels, 150, 150 -> Image dim)\n",
    "            # Stride means scan X pixels, padding is how many pixels to keep around before passing -> 3x3\n",
    "            self.conv1 = nn.Conv2d(in_channels=3, out_channels=12, kernel_size=3, stride=1, padding=1)\n",
    "            #Shape -> (256,12,150,150)\n",
    "            \n",
    "#             nn.init.xavier_normal_(self.conv1.weight)\n",
    "            \n",
    "            self.bn1 = nn.BatchNorm2d(num_features=12)\n",
    "            #Shape -> (256,12,150,150)\n",
    "            self.relu1 = nn.ReLU()\n",
    "            #Shape -> (256,12,150,150)\n",
    "            self.pool = nn.MaxPool2d(kernel_size=2)\n",
    "            # Reduce the image size by factor of 2\n",
    "            #Shape -> (256,12, 75,75)\n",
    "\n",
    "\n",
    "            # 2nd Layer\n",
    "\n",
    "\n",
    "            self.conv2 = nn.Conv2d(in_channels=12, out_channels=20, kernel_size=3, stride=1, padding=1)\n",
    "            #Shape -> (256,12,75,75)\n",
    "            \n",
    "#             nn.init.xavier_normal_(self.conv2.weight)\n",
    "            \n",
    "            self.relu2 = nn.ReLU()\n",
    "            #Shape -> (256,20,75,75)\n",
    "\n",
    "\n",
    "            # 3rd Layer\n",
    "\n",
    "\n",
    "            self.conv3 = nn.Conv2d(in_channels=20, out_channels=32, kernel_size=3, stride=1, padding=1)\n",
    "            #Shape -> (256,32,75,75)\n",
    "            \n",
    "#             nn.init.xavier_normal_(self.conv3.weight)\n",
    "            \n",
    "            self.bn2 = nn.BatchNorm2d(num_features=32)\n",
    "            #Shape -> (256,32,75,75)\n",
    "            self.relu3 = nn.ReLU()\n",
    "            #Shape -> (256,32,75,75) \n",
    "\n",
    "            self.fullyConnected = nn.Linear(in_features=32*75*75, out_features=num_classes)\n",
    "            \n",
    "#             self.initialize_weights()\n",
    "\n",
    "      \n",
    "                    \n",
    "      # Feed forward function\n",
    "      def forward(self, input):\n",
    "            \n",
    "            output = self.conv1(input)\n",
    "            output = self.bn1(output)\n",
    "            output = self.relu1(output)\n",
    "\n",
    "            output = self.pool(output)\n",
    "\n",
    "            output = self.conv2(output)\n",
    "            output = self.relu2(output)\n",
    "\n",
    "            output = self.conv3(output)\n",
    "            output = self.bn2(output)\n",
    "            output = self.relu3(output)\n",
    "\n",
    "            # the output will be in matric form of shape (256,32,75,75)\n",
    "            # in order to feed it to fully connected layer output needs to be reshaped\n",
    "\n",
    "            output = output.view(-1,32*75*75)\n",
    "            output = self.fullyConnected(output)\n",
    "\n",
    "            return output\n"
   ]
  },
  {
   "cell_type": "code",
   "execution_count": 66,
   "metadata": {},
   "outputs": [],
   "source": [
    "# with Kaiming uniform weight init\n",
    "def initialize_weights(m):\n",
    "        if isinstance(m, nn.Conv2d):\n",
    "                \n",
    "            nn.init.kaiming_uniform_(m.weight.data,nonlinearity='relu')\n",
    "            if m.bias is not None:\n",
    "                nn.init.constant_(m.bias.data, 0)\n",
    "                    \n",
    "        elif isinstance(m, nn.BatchNorm2d):\n",
    "            nn.init.constant_(m.weight.data, 1)\n",
    "            nn.init.constant_(m.bias.data, 0)\n",
    "            \n",
    "        elif isinstance(m, nn.Linear):\n",
    "            nn.init.kaiming_uniform_(m.weight.data)\n",
    "            nn.init.constant_(m.bias.data, 0)"
   ]
  },
  {
   "cell_type": "code",
   "execution_count": 67,
   "metadata": {},
   "outputs": [
    {
     "data": {
      "text/plain": [
       "ConvNet(\n",
       "  (conv1): Conv2d(3, 12, kernel_size=(3, 3), stride=(1, 1), padding=(1, 1))\n",
       "  (bn1): BatchNorm2d(12, eps=1e-05, momentum=0.1, affine=True, track_running_stats=True)\n",
       "  (relu1): ReLU()\n",
       "  (pool): MaxPool2d(kernel_size=2, stride=2, padding=0, dilation=1, ceil_mode=False)\n",
       "  (conv2): Conv2d(12, 20, kernel_size=(3, 3), stride=(1, 1), padding=(1, 1))\n",
       "  (relu2): ReLU()\n",
       "  (conv3): Conv2d(20, 32, kernel_size=(3, 3), stride=(1, 1), padding=(1, 1))\n",
       "  (bn2): BatchNorm2d(32, eps=1e-05, momentum=0.1, affine=True, track_running_stats=True)\n",
       "  (relu3): ReLU()\n",
       "  (fullyConnected): Linear(in_features=180000, out_features=6, bias=True)\n",
       ")"
      ]
     },
     "execution_count": 67,
     "metadata": {},
     "output_type": "execute_result"
    }
   ],
   "source": [
    "model = ConvNet(num_classes=6).to(device)\n",
    "model.apply(initialize_weights)"
   ]
  },
  {
   "cell_type": "code",
   "execution_count": 68,
   "metadata": {},
   "outputs": [
    {
     "name": "stdout",
     "output_type": "stream",
     "text": [
      "epoch: 0 Accuracy: 0.5225880005700442 loss: tensor(11.5776)\n",
      "epoch: 1 Accuracy: 0.7240273621205643 loss: tensor(1.4212)\n",
      "epoch: 2 Accuracy: 0.7963517172580875 loss: tensor(0.8307)\n",
      "epoch: 3 Accuracy: 0.834188399600969 loss: tensor(0.6760)\n",
      "epoch: 4 Accuracy: 0.8694598831409435 loss: tensor(0.5562)\n",
      "epoch: 5 Accuracy: 0.920478837109876 loss: tensor(0.2864)\n",
      "epoch: 6 Accuracy: 0.9488385349864614 loss: tensor(0.1777)\n",
      "epoch: 7 Accuracy: 0.9281031779962947 loss: tensor(0.2400)\n",
      "epoch: 8 Accuracy: 0.9383639732079236 loss: tensor(0.2105)\n",
      "epoch: 9 Accuracy: 0.926891834117144 loss: tensor(0.2979)\n",
      "epoch: 10 Accuracy: 0.9432093487245261 loss: tensor(0.1978)\n",
      "epoch: 11 Accuracy: 0.9677212483967508 loss: tensor(0.1071)\n",
      "___________________________________________________________________\n"
     ]
    }
   ],
   "source": [
    "# Training with Kaiming wt init\n",
    "\n",
    "train_loader = torch.utils.data.DataLoader(train_set,batch_size = 256, shuffle = True)\n",
    "Adam_RELU = Adam(model.parameters(), lr=0.001, weight_decay=0.0001)\n",
    "optimizer = Adam_RELU\n",
    "criterion = CrossEntropyLoss\n",
    "\n",
    "comment = f' ConvNet_RELU Adam_0_001_Wt_init_kaiming_uniform_ loss = CrossEntropyLoss'\n",
    "\n",
    "tb = SummaryWriter(log_dir = 'runs/Model_RELU_Wt_init_kaiming_uniform__Exp',comment=comment)\n",
    "for epoch in range(12):\n",
    "    total_loss = 0\n",
    "    total_correct = 0\n",
    "    train_accuracy=0.0\n",
    "    train_loss=0.0\n",
    "    model.train()\n",
    "    for images, labels in train_loader:\n",
    "        images, labels = images.to(device), labels.to(device)\n",
    "\n",
    "\n",
    "        if torch.cuda.is_available():\n",
    "          images=Variable(images.cuda())\n",
    "          labels=Variable(labels.cuda())\n",
    "        # at start of new batch the gradient is made 0    \n",
    "        optimizer.zero_grad()\n",
    "        # This gives us the prediction\n",
    "        outputs=model(images)\n",
    "        # cal loss using pred and actual value\n",
    "        lossEpoch=criterion(outputs,labels)\n",
    "        \n",
    "         #backpropogation\n",
    "        lossEpoch.backward()\n",
    "        # Update weights\n",
    "        optimizer.step()\n",
    "\n",
    "        # Multiply loss with image size\n",
    "        train_loss+= lossEpoch.cpu().data*images.size(0)\n",
    "        # The outputs are energies for the 6 classes. The higher the energy for a class, \n",
    "        # the more the network thinks that the image is of the particular class.\n",
    "        # So, let’s get the index of the highest energy:\n",
    "        _,prediction=torch.max(outputs.data,1)\n",
    "\n",
    "        train_accuracy+=int(torch.sum(prediction==labels.data))\n",
    "\n",
    "\n",
    "\n",
    "    total_loss_in_epoch = train_loss/train_count\n",
    "    tb.add_scalar(\"Loss\", total_loss_in_epoch.cpu().data.numpy(), epoch)\n",
    "         #tb.add_scalar(\"Correct\", total_correct, epoch)\n",
    "    tb.add_scalar(\"Accuracy\", train_accuracy/train_count, epoch)\n",
    "\n",
    "     # print(\"batch_size:\",batch_size, \"lr:\",lr,\"shuffle:\",shuffle)\n",
    "    print(\"epoch:\", epoch, \"Accuracy:\", train_accuracy/train_count,\"loss:\",train_loss/train_count)\n",
    "print(\"___________________________________________________________________\")\n",
    "\n",
    "\n",
    "\n",
    "tb.close()"
   ]
  },
  {
   "cell_type": "code",
   "execution_count": 70,
   "metadata": {},
   "outputs": [],
   "source": [
    "# with Xavier uniform weight init\n",
    "def initialize_weights(m):\n",
    "        if isinstance(m, nn.Conv2d):\n",
    "                \n",
    "            nn.init.xavier_uniform_(m.weight.data)\n",
    "            if m.bias is not None:\n",
    "                nn.init.constant_(m.bias.data, 0)\n",
    "                    \n",
    "        elif isinstance(m, nn.BatchNorm2d):\n",
    "            nn.init.constant_(m.weight.data, 1)\n",
    "            nn.init.constant_(m.bias.data, 0)\n",
    "            \n",
    "        elif isinstance(m, nn.Linear):\n",
    "            nn.init.xavier_uniform_(m.weight.data)\n",
    "            nn.init.constant_(m.bias.data, 0)"
   ]
  },
  {
   "cell_type": "code",
   "execution_count": 71,
   "metadata": {},
   "outputs": [
    {
     "data": {
      "text/plain": [
       "ConvNet(\n",
       "  (conv1): Conv2d(3, 12, kernel_size=(3, 3), stride=(1, 1), padding=(1, 1))\n",
       "  (bn1): BatchNorm2d(12, eps=1e-05, momentum=0.1, affine=True, track_running_stats=True)\n",
       "  (relu1): ReLU()\n",
       "  (pool): MaxPool2d(kernel_size=2, stride=2, padding=0, dilation=1, ceil_mode=False)\n",
       "  (conv2): Conv2d(12, 20, kernel_size=(3, 3), stride=(1, 1), padding=(1, 1))\n",
       "  (relu2): ReLU()\n",
       "  (conv3): Conv2d(20, 32, kernel_size=(3, 3), stride=(1, 1), padding=(1, 1))\n",
       "  (bn2): BatchNorm2d(32, eps=1e-05, momentum=0.1, affine=True, track_running_stats=True)\n",
       "  (relu3): ReLU()\n",
       "  (fullyConnected): Linear(in_features=180000, out_features=6, bias=True)\n",
       ")"
      ]
     },
     "execution_count": 71,
     "metadata": {},
     "output_type": "execute_result"
    }
   ],
   "source": [
    "model = ConvNet(num_classes=6).to(device)\n",
    "model.apply(initialize_weights)"
   ]
  },
  {
   "cell_type": "code",
   "execution_count": 72,
   "metadata": {},
   "outputs": [
    {
     "name": "stdout",
     "output_type": "stream",
     "text": [
      "epoch: 0 Accuracy: 0.5323500071255522 loss: tensor(8.2226)\n",
      "epoch: 1 Accuracy: 0.7506056719395753 loss: tensor(1.1656)\n",
      "epoch: 2 Accuracy: 0.788086076670942 loss: tensor(0.9962)\n",
      "epoch: 3 Accuracy: 0.8656833404588855 loss: tensor(0.5359)\n",
      "epoch: 4 Accuracy: 0.8932592275901382 loss: tensor(0.4032)\n",
      "epoch: 5 Accuracy: 0.9226165027789653 loss: tensor(0.2834)\n",
      "epoch: 6 Accuracy: 0.9422830269345874 loss: tensor(0.2018)\n",
      "epoch: 7 Accuracy: 0.9588855636311814 loss: tensor(0.1436)\n",
      "epoch: 8 Accuracy: 0.9484110018526436 loss: tensor(0.1930)\n",
      "epoch: 9 Accuracy: 0.950334900954824 loss: tensor(0.1743)\n",
      "epoch: 10 Accuracy: 0.9551090209491235 loss: tensor(0.1629)\n",
      "epoch: 11 Accuracy: 0.9611657403448767 loss: tensor(0.1377)\n",
      "___________________________________________________________________\n"
     ]
    }
   ],
   "source": [
    "# Training with Xavier wt init\n",
    "\n",
    "train_loader = torch.utils.data.DataLoader(train_set,batch_size = 256, shuffle = True)\n",
    "Adam_RELU = Adam(model.parameters(), lr=0.001, weight_decay=0.0001)\n",
    "optimizer = Adam_RELU\n",
    "criterion = CrossEntropyLoss\n",
    "\n",
    "comment = f' ConvNet_RELU Adam_0_001_Wt_init_xavier_uniform_ loss = CrossEntropyLoss'\n",
    "\n",
    "tb = SummaryWriter(log_dir = 'runs/Model_RELU_Wt_init_xavier_uniform__Exp',comment=comment)\n",
    "for epoch in range(12):\n",
    "    total_loss = 0\n",
    "    total_correct = 0\n",
    "    train_accuracy=0.0\n",
    "    train_loss=0.0\n",
    "    model.train()\n",
    "    for images, labels in train_loader:\n",
    "        images, labels = images.to(device), labels.to(device)\n",
    "\n",
    "\n",
    "        if torch.cuda.is_available():\n",
    "          images=Variable(images.cuda())\n",
    "          labels=Variable(labels.cuda())\n",
    "        # at start of new batch the gradient is made 0    \n",
    "        optimizer.zero_grad()\n",
    "        # This gives us the prediction\n",
    "        outputs=model(images)\n",
    "        # cal loss using pred and actual value\n",
    "        lossEpoch=criterion(outputs,labels)\n",
    "        \n",
    "         #backpropogation\n",
    "        lossEpoch.backward()\n",
    "        # Update weights\n",
    "        optimizer.step()\n",
    "\n",
    "        # Multiply loss with image size\n",
    "        train_loss+= lossEpoch.cpu().data*images.size(0)\n",
    "        # The outputs are energies for the 6 classes. The higher the energy for a class, \n",
    "        # the more the network thinks that the image is of the particular class.\n",
    "        # So, let’s get the index of the highest energy:\n",
    "        _,prediction=torch.max(outputs.data,1)\n",
    "\n",
    "        train_accuracy+=int(torch.sum(prediction==labels.data))\n",
    "\n",
    "\n",
    "\n",
    "    total_loss_in_epoch = train_loss/train_count\n",
    "    tb.add_scalar(\"Loss\", total_loss_in_epoch.cpu().data.numpy(), epoch)\n",
    "         #tb.add_scalar(\"Correct\", total_correct, epoch)\n",
    "    tb.add_scalar(\"Accuracy\", train_accuracy/train_count, epoch)\n",
    "\n",
    "     # print(\"batch_size:\",batch_size, \"lr:\",lr,\"shuffle:\",shuffle)\n",
    "    print(\"epoch:\", epoch, \"Accuracy:\", train_accuracy/train_count,\"loss:\",train_loss/train_count)\n",
    "print(\"___________________________________________________________________\")\n",
    "\n",
    "\n",
    "\n",
    "tb.close()"
   ]
  },
  {
   "cell_type": "markdown",
   "metadata": {},
   "source": [
    "#### Accuracy and Loss Plots as from Tensorboard\n",
    "\n",
    "NOTE : **For running the tensorboard in discovery cluster, we need to launch separate instance of tensorboard from Interactive Apps**\n",
    "\n",
    "#### Inference 🔎\n",
    "\n",
    "It is observed that the changes in network weight initialization, given the no. of epochs is 12 -> both the techniques Xavier uniform and Kaiming He Uniform gave similar results in accuracy. Although the loss plot shows that xavier weights initialization brought the initial loss very much lower than Kaiming He.\n",
    "If this model is tested on a test set or validation set, we can know more about its performance and whether the high accuracy and low loss in both of these models is actually good or not."
   ]
  },
  {
   "cell_type": "markdown",
   "metadata": {},
   "source": [
    "![wt_init_accuracy](https://user-images.githubusercontent.com/13203059/145698037-51fec8b4-5f10-4c6a-bb03-9575b3dadbcf.png)\n",
    "![wt_init_loss](https://user-images.githubusercontent.com/13203059/145698038-ff20c267-9035-4e20-85c7-f179069bb44e.png)\n",
    "\n"
   ]
  },
  {
   "cell_type": "markdown",
   "metadata": {
    "id": "A7EE5R4nvK02"
   },
   "source": [
    "### 3.8 Training the CNN with the dataset & model saving 📩\n",
    "\n",
    "Training the CNN with the dataset and saving the best model based on best test accuracy\n",
    "\n",
    "Based on the above permutations of activation functions/loss/Epochs/gradient estimate/network arch and weight init., We can move ahead with using a good model choice among these and save the model for Validation data preditions(unlabelled data).\n",
    "\n",
    "Model to use - **Model_RELU_Wt_init_kaiming_uniform_Exp**\n",
    "\n",
    "- Activation Fn -> ReLU ✔\n",
    "- Cost fn -> CrossEntropy Loss ✔\n",
    "- Gradient Est. -> Adam with lr=0.01 ✔\n",
    "- Network Arch -> 3 layer ReLU CNN ✔\n",
    "- Weight Init -> Kaiming he Uniform ✔"
   ]
  },
  {
   "cell_type": "code",
   "execution_count": 26,
   "metadata": {},
   "outputs": [],
   "source": [
    "#CNN network \n",
    "class ConvNet(nn.Module):\n",
    "      def __init__(self, num_classes=6):\n",
    "            \n",
    "            super(ConvNet,self).__init__()\n",
    "\n",
    "            # Input Shape = (256,3,150,150) -> (Batch size, no. of channels, 150, 150 -> Image dim)\n",
    "            # Stride means scan X pixels, padding is how many pixels to keep around before passing -> 3x3\n",
    "            self.conv1 = nn.Conv2d(in_channels=3, out_channels=12, kernel_size=3, stride=1, padding=1)\n",
    "            #Shape -> (256,12,150,150)\n",
    "            \n",
    "#             nn.init.xavier_normal_(self.conv1.weight)\n",
    "            \n",
    "            self.bn1 = nn.BatchNorm2d(num_features=12)\n",
    "            #Shape -> (256,12,150,150)\n",
    "            self.relu1 = nn.ReLU()\n",
    "            #Shape -> (256,12,150,150)\n",
    "            self.pool = nn.MaxPool2d(kernel_size=2)\n",
    "            # Reduce the image size by factor of 2\n",
    "            #Shape -> (256,12, 75,75)\n",
    "\n",
    "\n",
    "            # 2nd Layer\n",
    "\n",
    "\n",
    "            self.conv2 = nn.Conv2d(in_channels=12, out_channels=20, kernel_size=3, stride=1, padding=1)\n",
    "            #Shape -> (256,12,75,75)\n",
    "            \n",
    "#             nn.init.xavier_normal_(self.conv2.weight)\n",
    "            \n",
    "            self.relu2 = nn.ReLU()\n",
    "            #Shape -> (256,20,75,75)\n",
    "\n",
    "\n",
    "            # 3rd Layer\n",
    "\n",
    "\n",
    "            self.conv3 = nn.Conv2d(in_channels=20, out_channels=32, kernel_size=3, stride=1, padding=1)\n",
    "            #Shape -> (256,32,75,75)\n",
    "            \n",
    "#             nn.init.xavier_normal_(self.conv3.weight)\n",
    "            \n",
    "            self.bn2 = nn.BatchNorm2d(num_features=32)\n",
    "            #Shape -> (256,32,75,75)\n",
    "            self.relu3 = nn.ReLU()\n",
    "            #Shape -> (256,32,75,75) \n",
    "\n",
    "            self.fullyConnected = nn.Linear(in_features=32*75*75, out_features=num_classes)\n",
    "            \n",
    "#             self.initialize_weights()\n",
    "\n",
    "      \n",
    "                    \n",
    "      # Feed forward function\n",
    "      def forward(self, input):\n",
    "            \n",
    "            output = self.conv1(input)\n",
    "            output = self.bn1(output)\n",
    "            output = self.relu1(output)\n",
    "\n",
    "            output = self.pool(output)\n",
    "\n",
    "            output = self.conv2(output)\n",
    "            output = self.relu2(output)\n",
    "\n",
    "            output = self.conv3(output)\n",
    "            output = self.bn2(output)\n",
    "            output = self.relu3(output)\n",
    "\n",
    "            # the output will be in matric form of shape (256,32,75,75)\n",
    "            # in order to feed it to fully connected layer output needs to be reshaped\n",
    "\n",
    "            output = output.view(-1,32*75*75)\n",
    "            output = self.fullyConnected(output)\n",
    "\n",
    "            return output\n"
   ]
  },
  {
   "cell_type": "code",
   "execution_count": 27,
   "metadata": {},
   "outputs": [],
   "source": [
    "# with Kaiming uniform weight init\n",
    "def initialize_weights(m):\n",
    "        if isinstance(m, nn.Conv2d):\n",
    "                \n",
    "            nn.init.kaiming_uniform_(m.weight.data,nonlinearity='relu')\n",
    "            if m.bias is not None:\n",
    "                nn.init.constant_(m.bias.data, 0)\n",
    "                    \n",
    "        elif isinstance(m, nn.BatchNorm2d):\n",
    "            nn.init.constant_(m.weight.data, 1)\n",
    "            nn.init.constant_(m.bias.data, 0)\n",
    "            \n",
    "        elif isinstance(m, nn.Linear):\n",
    "            nn.init.kaiming_uniform_(m.weight.data)\n",
    "            nn.init.constant_(m.bias.data, 0)"
   ]
  },
  {
   "cell_type": "code",
   "execution_count": 28,
   "metadata": {},
   "outputs": [
    {
     "data": {
      "text/plain": [
       "ConvNet(\n",
       "  (conv1): Conv2d(3, 12, kernel_size=(3, 3), stride=(1, 1), padding=(1, 1))\n",
       "  (bn1): BatchNorm2d(12, eps=1e-05, momentum=0.1, affine=True, track_running_stats=True)\n",
       "  (relu1): ReLU()\n",
       "  (pool): MaxPool2d(kernel_size=2, stride=2, padding=0, dilation=1, ceil_mode=False)\n",
       "  (conv2): Conv2d(12, 20, kernel_size=(3, 3), stride=(1, 1), padding=(1, 1))\n",
       "  (relu2): ReLU()\n",
       "  (conv3): Conv2d(20, 32, kernel_size=(3, 3), stride=(1, 1), padding=(1, 1))\n",
       "  (bn2): BatchNorm2d(32, eps=1e-05, momentum=0.1, affine=True, track_running_stats=True)\n",
       "  (relu3): ReLU()\n",
       "  (fullyConnected): Linear(in_features=180000, out_features=6, bias=True)\n",
       ")"
      ]
     },
     "execution_count": 28,
     "metadata": {},
     "output_type": "execute_result"
    }
   ],
   "source": [
    "model = ConvNet(num_classes=6).to(device)\n",
    "model.apply(initialize_weights)"
   ]
  },
  {
   "cell_type": "code",
   "execution_count": 29,
   "metadata": {},
   "outputs": [
    {
     "name": "stdout",
     "output_type": "stream",
     "text": [
      "epoch: 0 Train Accuracy: 0.5091207068547813 Train loss: tensor(9.2487) Test Accuracy: 0.6 Test loss: tensor(1.9792)\n",
      "epoch: 1 Train Accuracy: 0.7108450904945133 Train loss: tensor(1.3979) Test Accuracy: 0.6966666666666667 Test loss: tensor(1.3644)\n",
      "epoch: 2 Train Accuracy: 0.7556648140230868 Train loss: tensor(1.1911) Test Accuracy: 0.7546666666666667 Test loss: tensor(1.1337)\n",
      "epoch: 3 Train Accuracy: 0.8417414849650848 Train loss: tensor(0.6241) Test Accuracy: 0.826 Test loss: tensor(0.6616)\n",
      "epoch: 4 Train Accuracy: 0.8215049166310389 Train loss: tensor(0.7600) Test Accuracy: 0.8553333333333333 Test loss: tensor(0.5674)\n",
      "epoch: 5 Train Accuracy: 0.8744477697021519 Train loss: tensor(0.4768) Test Accuracy: 0.9286666666666666 Test loss: tensor(0.2847)\n",
      "epoch: 6 Train Accuracy: 0.9393615505201653 Train loss: tensor(0.2061) Test Accuracy: 0.9493333333333334 Test loss: tensor(0.1906)\n",
      "epoch: 7 Train Accuracy: 0.9181274048738777 Train loss: tensor(0.2789) Test Accuracy: 0.9606666666666667 Test loss: tensor(0.1394)\n",
      "epoch: 8 Train Accuracy: 0.9540401881145789 Train loss: tensor(0.1481) Test Accuracy: 0.96 Test loss: tensor(0.1283)\n",
      "epoch: 9 Train Accuracy: 0.9419980048453755 Train loss: tensor(0.2134) Test Accuracy: 0.9703333333333334 Test loss: tensor(0.0931)\n",
      "epoch: 10 Train Accuracy: 0.976913210773835 Train loss: tensor(0.0870) Test Accuracy: 0.9696666666666667 Test loss: tensor(0.1152)\n",
      "epoch: 11 Train Accuracy: 0.9818298418127405 Train loss: tensor(0.0671) Test Accuracy: 0.9863333333333333 Test loss: tensor(0.0643)\n",
      "___________________________________________________________________\n"
     ]
    }
   ],
   "source": [
    "# Training with Kaiming uniform weight init\n",
    "\n",
    "train_loader = torch.utils.data.DataLoader(train_set,batch_size = 256, shuffle = True)\n",
    "Adam_RELU = Adam(model.parameters(), lr=0.001, weight_decay=0.0001)\n",
    "optimizer = Adam_RELU\n",
    "criterion = CrossEntropyLoss\n",
    "\n",
    "# comment = f' ConvNet_RELU Adam_0_001_Wt_init_xavier_uniform_ loss = CrossEntropyLoss'\n",
    "\n",
    "writer = SummaryWriter('runs/Image-classification')\n",
    "# train_loader = torch.utils.data.DataLoader(train_set,batch_size = 256, shuffle = True)\n",
    "tb = SummaryWriter('runs/Final_Model_Train_Test_acc_loss')\n",
    "for epoch in range(12):\n",
    "    total_loss = 0\n",
    "    total_correct = 0\n",
    "    train_accuracy=0.0\n",
    "    train_loss=0.0\n",
    "    model.train()\n",
    "    for images, labels in train_loader:\n",
    "        images, labels = images.to(device), labels.to(device)\n",
    "\n",
    "\n",
    "        if torch.cuda.is_available():\n",
    "          images=Variable(images.cuda())\n",
    "          labels=Variable(labels.cuda())\n",
    "        # at start of new batch the gradient is made 0    \n",
    "        optimizer.zero_grad()\n",
    "        # This gives us the prediction\n",
    "        outputs=model(images)\n",
    "        # cal loss using pred and actual value\n",
    "        lossEpoch=criterion(outputs,labels)\n",
    "        \n",
    "         #backpropogation\n",
    "        lossEpoch.backward()\n",
    "        # Update weights\n",
    "        optimizer.step()\n",
    "\n",
    "        # Multiply loss with image size\n",
    "        train_loss+= lossEpoch.cpu().data*images.size(0)\n",
    "        # The outputs are energies for the 6 classes. The higher the energy for a class, \n",
    "        # the more the network thinks that the image is of the particular class.\n",
    "        # So, let’s get the index of the highest energy:\n",
    "        _,prediction=torch.max(outputs.data,1)\n",
    "\n",
    "        train_accuracy+=int(torch.sum(prediction==labels.data))\n",
    "\n",
    "\n",
    "\n",
    "    total_loss_in_epoch = train_loss/train_count\n",
    "    tb.add_scalar(\"Train Loss\", total_loss_in_epoch.cpu().data.numpy(), epoch)\n",
    "         #tb.add_scalar(\"Correct\", total_correct, epoch)\n",
    "    tb.add_scalar(\"Train Accuracy\", train_accuracy/train_count, epoch)\n",
    "    tb.add_histogram(\"conv1.bias\", model.conv1.bias, epoch)\n",
    "    tb.add_histogram(\"conv1.weight\", model.conv1.weight, epoch)\n",
    "    tb.add_histogram(\"conv2.bias\", model.conv2.bias, epoch)\n",
    "    tb.add_histogram(\"conv2.weight\", model.conv2.weight, epoch)\n",
    "    tb.add_histogram(\"conv3.bias\", model.conv3.bias, epoch)\n",
    "    tb.add_histogram(\"conv3.weight\", model.conv3.weight, epoch)\n",
    "    writer.add_figure(\"Confusion matrix - Training Data\", createConfusionMatrix(train_loader), epoch)\n",
    "     # print(\"batch_size:\",batch_size, \"lr:\",lr,\"shuffle:\",shuffle)\n",
    "        \n",
    "    # Evaluation on testing dataset\n",
    "        \n",
    "    test_accuracy=0.0\n",
    "    test_loss=0.0\n",
    "    model.eval()\n",
    "    for images, labels in test_loader:\n",
    "        images, labels = images.to(device), labels.to(device)\n",
    "\n",
    "\n",
    "        if torch.cuda.is_available():\n",
    "          images=Variable(images.cuda())\n",
    "          labels=Variable(labels.cuda())\n",
    "        # at start of new batch the gradient is made 0    \n",
    "        optimizer.zero_grad()\n",
    "        # This gives us the prediction\n",
    "        outputs=model(images)\n",
    "        # cal loss using pred and actual value\n",
    "        lossEpoch=criterion(outputs,labels)\n",
    "        \n",
    "         #backpropogation\n",
    "        lossEpoch.backward()\n",
    "        # Update weights\n",
    "        optimizer.step()\n",
    "\n",
    "        # Multiply loss with image size\n",
    "        test_loss+= lossEpoch.cpu().data*images.size(0)\n",
    "        # The outputs are energies for the 6 classes. The higher the energy for a class, \n",
    "        # the more the network thinks that the image is of the particular class.\n",
    "        # So, let’s get the index of the highest energy:\n",
    "        _,prediction=torch.max(outputs.data,1)\n",
    "\n",
    "        test_accuracy+=int(torch.sum(prediction==labels.data))\n",
    "\n",
    "\n",
    "\n",
    "    total_loss_in_epoch = test_loss/test_count\n",
    "    tb.add_scalar(\"Test Loss\", total_loss_in_epoch.cpu().data.numpy(), epoch)\n",
    "         #tb.add_scalar(\"Correct\", total_correct, epoch)\n",
    "    tb.add_scalar(\"Test Accuracy\", test_accuracy/test_count, epoch)    \n",
    "    writer.add_figure(\"Confusion matrix - Test Data\", createConfusionMatrix(test_loader), epoch)    \n",
    "        \n",
    "    print(\"epoch:\", epoch, \"Train Accuracy:\", train_accuracy/train_count,\"Train loss:\",train_loss/train_count, \"Test Accuracy:\", test_accuracy/test_count,\"Test loss:\",test_loss/test_count)\n",
    "print(\"___________________________________________________________________\")\n",
    "\n",
    "\n",
    "\n",
    "tb.close()"
   ]
  },
  {
   "cell_type": "markdown",
   "metadata": {},
   "source": [
    "#### Accuracy and Loss Plots as from Tensorboard\n",
    "\n",
    "NOTE : **For running the tensorboard in discovery cluster, we need to launch separate instance of tensorboard from Interactive Apps**"
   ]
  },
  {
   "cell_type": "markdown",
   "metadata": {},
   "source": [
    "#### Training Accuracy and Training Loss\n",
    "![final_train_acc](https://user-images.githubusercontent.com/13203059/145698054-d2fb66e8-0fff-405d-8b3b-da2d25b703e5.png)\n",
    "![final_train_loss](https://user-images.githubusercontent.com/13203059/145698055-b535b4a2-27f9-4748-8729-1712d7d507fd.png)\n",
    "\n"
   ]
  },
  {
   "cell_type": "markdown",
   "metadata": {},
   "source": [
    "#### Test Accuracy and Test Loss\n",
    "![final_test_acc](https://user-images.githubusercontent.com/13203059/145698066-b02c559a-3cfe-43ab-a801-072a72295220.png)\n",
    "![final_test_loss](https://user-images.githubusercontent.com/13203059/145698067-c9fc89ae-2397-42d0-96e5-5a3d58d9a988.png)\n",
    "\n"
   ]
  },
  {
   "cell_type": "code",
   "execution_count": 30,
   "metadata": {},
   "outputs": [],
   "source": [
    "#Save the best model\n",
    "torch.save(model.state_dict(),'best_checkpoint.model')"
   ]
  },
  {
   "cell_type": "markdown",
   "metadata": {},
   "source": [
    "### Conclusion 📖\n",
    "\n",
    "The initial Exploratory Data analysis of the dataset revealed a balanced ratio of all 6 image classes, both in train and test dataset. In approaching the Image classification, various parameters of the CNN model were changed in order to see the changes in accuracy and loss. \n",
    "\n",
    "The following affects were observed and ploted in Tensorbaord - \n",
    "\n",
    "- Affect of Activation Function - RELU and ELU\n",
    "- Affect of Cost functions - CrossEntropy and Negative Log Loss(NLL)\n",
    "- Affect of Epochs - Ranging from 0 to 15\n",
    "- Affect of Gradient estimation and their corresponding learning Rates - Adam and SGD\n",
    "- Affect of Network Architecture - Adding and remove Hidden layers from the CNN network\n",
    "- Affect of Network Weight Initializations - Using Kaiming He uniform and Xavier Uniform"
   ]
  },
  {
   "cell_type": "markdown",
   "metadata": {},
   "source": [
    "\n",
    "### Licensing & Citation 📰\n",
    "\n",
    "Copyright 2021 Kshitij Zutshi\n",
    "\n",
    "Licensed under the Apache License, Version 2.0 (the \"License\");\n",
    "you may not use this file except in compliance with the License.\n",
    "You may obtain a copy of the License at\n",
    "\n",
    "  http://www.apache.org/licenses/LICENSE-2.0\n",
    "\n",
    "Unless required by applicable law or agreed to in writing, software\n",
    "distributed under the License is distributed on an \"AS IS\" BASIS,\n",
    "WITHOUT WARRANTIES OR CONDITIONS OF ANY KIND, either express or implied.\n",
    "See the License for the specific language governing permissions and\n",
    "limitations under the License.\n",
    "\n",
    "\n",
    "\n",
    "\n",
    "#### Citation Reference -\n",
    "\n",
    "\n",
    "https://pytorch.org/vision/stable/models.html\n",
    "\n",
    "Image classification using CNN from scratch in Pytorch Part I and II\n",
    "\n",
    "https://www.youtube.com/watch?v=9OHlgDjaE2I\n",
    "\n",
    "https://www.youtube.com/watch?v=zwHSQrNVNNE\n",
    "\n",
    "Image Classification with Convolutional Neural Networks | Deep Learning with PyTorch: Zero to GANs\n",
    "\n",
    "https://www.youtube.com/watch?v=d9QHNkD_Pos&t=234s\n",
    "\n",
    "https://thevatsalsaglani.medium.com/multi-class-image-classification-using-cnn-over-pytorch-and-the-basics-of-cnn-fdf425a11dc0\n",
    "\n",
    "TENSORBOARD PYTORCH Reference - \n",
    "\n",
    "https://towardsdatascience.com/a-complete-guide-to-using-tensorboard-with-pytorch-53cb2301e8c3\n",
    "https://github.com/ajinkya98/TensorBoard_PyTorch/blob/master/model.py\n",
    "https://towardsdatascience.com/pytorch-performance-analysis-with-tensorboard-7c61f91071aa\n",
    "https://cnvrg.io/tensorboard-guide/"
   ]
  }
 ],
 "metadata": {
  "accelerator": "GPU",
  "colab": {
   "name": "Assignment-3-Deep-Learning_CNN.ipynb",
   "provenance": []
  },
  "kernelspec": {
   "display_name": "pytorch_kz_env",
   "language": "python",
   "name": "pytorch_kz_env"
  },
  "language_info": {
   "codemirror_mode": {
    "name": "ipython",
    "version": 3
   },
   "file_extension": ".py",
   "mimetype": "text/x-python",
   "name": "python",
   "nbconvert_exporter": "python",
   "pygments_lexer": "ipython3",
   "version": "3.7.11"
  },
  "toc-showcode": false
 },
 "nbformat": 4,
 "nbformat_minor": 4
}
